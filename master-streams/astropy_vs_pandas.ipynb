{
 "cells": [
  {
   "cell_type": "markdown",
   "metadata": {},
   "source": [
    "# Comparing the Pandas DataFrame and Astropy Tables\n",
    "\n",
    "___version 1.0___\n",
    "\n",
    "___Wing-Fai Thi 21/05/2018___\n",
    "\n",
    "[Pandas](https://pandas.pydata.org) is a very powerful data manupulation package for Python and it is used by quasi all the\n",
    "data scientists. Astronomers have developed more dedicated packages to deal with large astronomical datasets. One of the most mature package is Astropy. [Astropy](http://www.astropy.org) has many tools to manage data (images and tables), to read and write them in the formats that are commonly used in astronomy. The equivalent in astronomy of the HDF5 format to save large amount of binary data is the fits format. FITS (Flexible Image Transport System) is the data format most widely used within astronomy for transporting, analyzing, and archiving scientific data files. The format is endorsed by both NASA and the International Astronomical Union (IAU). For more information about the FITS standard, go to the FITS Web site, http://fits.gsfc.nasa.gov/ and\n",
    "https://www.fileformat.info/format/fits/egff.htm.\n",
    "\n",
    "Astropy includes powerful tools to read, manage, and write images and tables into fits file.\n",
    "\n",
    "The fits format supports for unlimited metadata in the header, for example the sky coordinates, information about the telescope, etc in addition to the keys for tables.\n",
    "\n",
    "In this notebook we will explore a couple of methods provided by Pandas and Astropy to deal with tabular data. It is a work in progress and is not an exhaustive overview of the methods in both packages. \n",
    "\n",
    "This notebook requires Python 3.6 an Astropy version 3.0.1 (Astropy version >3 is only available for Python > 3.4).\n",
    "\n",
    "### Reading a csv file\n",
    "\n",
    "Although Pandas and Astropy can deal with specific format not supported by the other packages (Excel, json format for Pandas and fits format for Astropy), they both accept other common file formats such as HDF5, ascii and cvs formats. In the first part of the notebook, we take as example the Titanic passenger manifest, whose data are in the CVS format. Comma Separated Value files (CSV) are widely used (and an export and import option for programs like Excel).\n",
    "Python has a standard library that can read csv format:"
   ]
  },
  {
   "cell_type": "code",
   "execution_count": 1,
   "metadata": {},
   "outputs": [],
   "source": [
    "from __future__ import division, absolute_import, print_function\n",
    "\n",
    "# Method 1: Standard Python\n",
    "from csv import reader\n",
    "def load_csv(filename):\n",
    "    dataset = list() # we put the dataset in a list\n",
    "    with open(filename,'r') as file:\n",
    "        csv_reader = reader(file)\n",
    "        for row in csv_reader:\n",
    "            if not row:\n",
    "                continue\n",
    "            dataset.append(row)\n",
    "    return dataset"
   ]
  },
  {
   "cell_type": "markdown",
   "metadata": {},
   "source": [
    "The titanic dataset can be found at various places."
   ]
  },
  {
   "cell_type": "code",
   "execution_count": 2,
   "metadata": {},
   "outputs": [
    {
     "data": {
      "text/plain": [
       "[['PassengerId',\n",
       "  'Survived',\n",
       "  'Pclass',\n",
       "  'Name',\n",
       "  'Sex',\n",
       "  'Age',\n",
       "  'SibSp',\n",
       "  'Parch',\n",
       "  'Ticket',\n",
       "  'Fare',\n",
       "  'Cabin',\n",
       "  'Embarked'],\n",
       " ['1',\n",
       "  '0',\n",
       "  '3',\n",
       "  'Braund, Mr. Owen Harris',\n",
       "  'male',\n",
       "  '22',\n",
       "  '1',\n",
       "  '0',\n",
       "  'A/5 21171',\n",
       "  '7.25',\n",
       "  '',\n",
       "  'S']]"
      ]
     },
     "execution_count": 2,
     "metadata": {},
     "output_type": "execute_result"
    }
   ],
   "source": [
    "dataset=load_csv('titanic.csv')\n",
    "dataset[0:2][:]"
   ]
  },
  {
   "cell_type": "code",
   "execution_count": 3,
   "metadata": {},
   "outputs": [],
   "source": [
    "# Method 2: Pandas\n",
    "import pandas as pd"
   ]
  },
  {
   "cell_type": "code",
   "execution_count": 4,
   "metadata": {},
   "outputs": [],
   "source": [
    "df = pd.read_csv('titanic.csv')"
   ]
  },
  {
   "cell_type": "code",
   "execution_count": 5,
   "metadata": {},
   "outputs": [
    {
     "data": {
      "text/html": [
       "<div>\n",
       "<style scoped>\n",
       "    .dataframe tbody tr th:only-of-type {\n",
       "        vertical-align: middle;\n",
       "    }\n",
       "\n",
       "    .dataframe tbody tr th {\n",
       "        vertical-align: top;\n",
       "    }\n",
       "\n",
       "    .dataframe thead th {\n",
       "        text-align: right;\n",
       "    }\n",
       "</style>\n",
       "<table border=\"1\" class=\"dataframe\">\n",
       "  <thead>\n",
       "    <tr style=\"text-align: right;\">\n",
       "      <th></th>\n",
       "      <th>PassengerId</th>\n",
       "      <th>Survived</th>\n",
       "      <th>Pclass</th>\n",
       "      <th>Name</th>\n",
       "      <th>Sex</th>\n",
       "      <th>Age</th>\n",
       "      <th>SibSp</th>\n",
       "      <th>Parch</th>\n",
       "      <th>Ticket</th>\n",
       "      <th>Fare</th>\n",
       "      <th>Cabin</th>\n",
       "      <th>Embarked</th>\n",
       "    </tr>\n",
       "  </thead>\n",
       "  <tbody>\n",
       "    <tr>\n",
       "      <th>0</th>\n",
       "      <td>1</td>\n",
       "      <td>0</td>\n",
       "      <td>3</td>\n",
       "      <td>Braund, Mr. Owen Harris</td>\n",
       "      <td>male</td>\n",
       "      <td>22.0</td>\n",
       "      <td>1</td>\n",
       "      <td>0</td>\n",
       "      <td>A/5 21171</td>\n",
       "      <td>7.2500</td>\n",
       "      <td>NaN</td>\n",
       "      <td>S</td>\n",
       "    </tr>\n",
       "    <tr>\n",
       "      <th>1</th>\n",
       "      <td>2</td>\n",
       "      <td>1</td>\n",
       "      <td>1</td>\n",
       "      <td>Cumings, Mrs. John Bradley (Florence Briggs Th...</td>\n",
       "      <td>female</td>\n",
       "      <td>38.0</td>\n",
       "      <td>1</td>\n",
       "      <td>0</td>\n",
       "      <td>PC 17599</td>\n",
       "      <td>71.2833</td>\n",
       "      <td>C85</td>\n",
       "      <td>C</td>\n",
       "    </tr>\n",
       "    <tr>\n",
       "      <th>2</th>\n",
       "      <td>3</td>\n",
       "      <td>1</td>\n",
       "      <td>3</td>\n",
       "      <td>Heikkinen, Miss. Laina</td>\n",
       "      <td>female</td>\n",
       "      <td>26.0</td>\n",
       "      <td>0</td>\n",
       "      <td>0</td>\n",
       "      <td>STON/O2. 3101282</td>\n",
       "      <td>7.9250</td>\n",
       "      <td>NaN</td>\n",
       "      <td>S</td>\n",
       "    </tr>\n",
       "    <tr>\n",
       "      <th>3</th>\n",
       "      <td>4</td>\n",
       "      <td>1</td>\n",
       "      <td>1</td>\n",
       "      <td>Futrelle, Mrs. Jacques Heath (Lily May Peel)</td>\n",
       "      <td>female</td>\n",
       "      <td>35.0</td>\n",
       "      <td>1</td>\n",
       "      <td>0</td>\n",
       "      <td>113803</td>\n",
       "      <td>53.1000</td>\n",
       "      <td>C123</td>\n",
       "      <td>S</td>\n",
       "    </tr>\n",
       "    <tr>\n",
       "      <th>4</th>\n",
       "      <td>5</td>\n",
       "      <td>0</td>\n",
       "      <td>3</td>\n",
       "      <td>Allen, Mr. William Henry</td>\n",
       "      <td>male</td>\n",
       "      <td>35.0</td>\n",
       "      <td>0</td>\n",
       "      <td>0</td>\n",
       "      <td>373450</td>\n",
       "      <td>8.0500</td>\n",
       "      <td>NaN</td>\n",
       "      <td>S</td>\n",
       "    </tr>\n",
       "  </tbody>\n",
       "</table>\n",
       "</div>"
      ],
      "text/plain": [
       "   PassengerId  Survived  Pclass  \\\n",
       "0            1         0       3   \n",
       "1            2         1       1   \n",
       "2            3         1       3   \n",
       "3            4         1       1   \n",
       "4            5         0       3   \n",
       "\n",
       "                                                Name     Sex   Age  SibSp  \\\n",
       "0                            Braund, Mr. Owen Harris    male  22.0      1   \n",
       "1  Cumings, Mrs. John Bradley (Florence Briggs Th...  female  38.0      1   \n",
       "2                             Heikkinen, Miss. Laina  female  26.0      0   \n",
       "3       Futrelle, Mrs. Jacques Heath (Lily May Peel)  female  35.0      1   \n",
       "4                           Allen, Mr. William Henry    male  35.0      0   \n",
       "\n",
       "   Parch            Ticket     Fare Cabin Embarked  \n",
       "0      0         A/5 21171   7.2500   NaN        S  \n",
       "1      0          PC 17599  71.2833   C85        C  \n",
       "2      0  STON/O2. 3101282   7.9250   NaN        S  \n",
       "3      0            113803  53.1000  C123        S  \n",
       "4      0            373450   8.0500   NaN        S  "
      ]
     },
     "execution_count": 5,
     "metadata": {},
     "output_type": "execute_result"
    }
   ],
   "source": [
    "df.head(5)"
   ]
  },
  {
   "cell_type": "code",
   "execution_count": 6,
   "metadata": {},
   "outputs": [
    {
     "data": {
      "text/html": [
       "<div>\n",
       "<style scoped>\n",
       "    .dataframe tbody tr th:only-of-type {\n",
       "        vertical-align: middle;\n",
       "    }\n",
       "\n",
       "    .dataframe tbody tr th {\n",
       "        vertical-align: top;\n",
       "    }\n",
       "\n",
       "    .dataframe thead th {\n",
       "        text-align: right;\n",
       "    }\n",
       "</style>\n",
       "<table border=\"1\" class=\"dataframe\">\n",
       "  <thead>\n",
       "    <tr style=\"text-align: right;\">\n",
       "      <th></th>\n",
       "      <th>PassengerId</th>\n",
       "      <th>Survived</th>\n",
       "      <th>Pclass</th>\n",
       "      <th>Name</th>\n",
       "      <th>Sex</th>\n",
       "      <th>Age</th>\n",
       "      <th>SibSp</th>\n",
       "      <th>Parch</th>\n",
       "      <th>Ticket</th>\n",
       "      <th>Fare</th>\n",
       "      <th>Cabin</th>\n",
       "      <th>Embarked</th>\n",
       "    </tr>\n",
       "  </thead>\n",
       "  <tbody>\n",
       "    <tr>\n",
       "      <th>886</th>\n",
       "      <td>887</td>\n",
       "      <td>0</td>\n",
       "      <td>2</td>\n",
       "      <td>Montvila, Rev. Juozas</td>\n",
       "      <td>male</td>\n",
       "      <td>27.0</td>\n",
       "      <td>0</td>\n",
       "      <td>0</td>\n",
       "      <td>211536</td>\n",
       "      <td>13.00</td>\n",
       "      <td>NaN</td>\n",
       "      <td>S</td>\n",
       "    </tr>\n",
       "    <tr>\n",
       "      <th>887</th>\n",
       "      <td>888</td>\n",
       "      <td>1</td>\n",
       "      <td>1</td>\n",
       "      <td>Graham, Miss. Margaret Edith</td>\n",
       "      <td>female</td>\n",
       "      <td>19.0</td>\n",
       "      <td>0</td>\n",
       "      <td>0</td>\n",
       "      <td>112053</td>\n",
       "      <td>30.00</td>\n",
       "      <td>B42</td>\n",
       "      <td>S</td>\n",
       "    </tr>\n",
       "    <tr>\n",
       "      <th>888</th>\n",
       "      <td>889</td>\n",
       "      <td>0</td>\n",
       "      <td>3</td>\n",
       "      <td>Johnston, Miss. Catherine Helen \"Carrie\"</td>\n",
       "      <td>female</td>\n",
       "      <td>NaN</td>\n",
       "      <td>1</td>\n",
       "      <td>2</td>\n",
       "      <td>W./C. 6607</td>\n",
       "      <td>23.45</td>\n",
       "      <td>NaN</td>\n",
       "      <td>S</td>\n",
       "    </tr>\n",
       "    <tr>\n",
       "      <th>889</th>\n",
       "      <td>890</td>\n",
       "      <td>1</td>\n",
       "      <td>1</td>\n",
       "      <td>Behr, Mr. Karl Howell</td>\n",
       "      <td>male</td>\n",
       "      <td>26.0</td>\n",
       "      <td>0</td>\n",
       "      <td>0</td>\n",
       "      <td>111369</td>\n",
       "      <td>30.00</td>\n",
       "      <td>C148</td>\n",
       "      <td>C</td>\n",
       "    </tr>\n",
       "    <tr>\n",
       "      <th>890</th>\n",
       "      <td>891</td>\n",
       "      <td>0</td>\n",
       "      <td>3</td>\n",
       "      <td>Dooley, Mr. Patrick</td>\n",
       "      <td>male</td>\n",
       "      <td>32.0</td>\n",
       "      <td>0</td>\n",
       "      <td>0</td>\n",
       "      <td>370376</td>\n",
       "      <td>7.75</td>\n",
       "      <td>NaN</td>\n",
       "      <td>Q</td>\n",
       "    </tr>\n",
       "  </tbody>\n",
       "</table>\n",
       "</div>"
      ],
      "text/plain": [
       "     PassengerId  Survived  Pclass                                      Name  \\\n",
       "886          887         0       2                     Montvila, Rev. Juozas   \n",
       "887          888         1       1              Graham, Miss. Margaret Edith   \n",
       "888          889         0       3  Johnston, Miss. Catherine Helen \"Carrie\"   \n",
       "889          890         1       1                     Behr, Mr. Karl Howell   \n",
       "890          891         0       3                       Dooley, Mr. Patrick   \n",
       "\n",
       "        Sex   Age  SibSp  Parch      Ticket   Fare Cabin Embarked  \n",
       "886    male  27.0      0      0      211536  13.00   NaN        S  \n",
       "887  female  19.0      0      0      112053  30.00   B42        S  \n",
       "888  female   NaN      1      2  W./C. 6607  23.45   NaN        S  \n",
       "889    male  26.0      0      0      111369  30.00  C148        C  \n",
       "890    male  32.0      0      0      370376   7.75   NaN        Q  "
      ]
     },
     "execution_count": 6,
     "metadata": {},
     "output_type": "execute_result"
    }
   ],
   "source": [
    "df.tail(5)"
   ]
  },
  {
   "cell_type": "code",
   "execution_count": 7,
   "metadata": {},
   "outputs": [
    {
     "name": "stdout",
     "output_type": "stream",
     "text": [
      "<class 'pandas.core.frame.DataFrame'>\n",
      "RangeIndex: 891 entries, 0 to 890\n",
      "Data columns (total 12 columns):\n",
      "PassengerId    891 non-null int64\n",
      "Survived       891 non-null int64\n",
      "Pclass         891 non-null int64\n",
      "Name           891 non-null object\n",
      "Sex            891 non-null object\n",
      "Age            714 non-null float64\n",
      "SibSp          891 non-null int64\n",
      "Parch          891 non-null int64\n",
      "Ticket         891 non-null object\n",
      "Fare           891 non-null float64\n",
      "Cabin          204 non-null object\n",
      "Embarked       889 non-null object\n",
      "dtypes: float64(2), int64(5), object(5)\n",
      "memory usage: 83.6+ KB\n"
     ]
    }
   ],
   "source": [
    "df.info()"
   ]
  },
  {
   "cell_type": "code",
   "execution_count": 8,
   "metadata": {},
   "outputs": [
    {
     "data": {
      "text/html": [
       "<div>\n",
       "<style scoped>\n",
       "    .dataframe tbody tr th:only-of-type {\n",
       "        vertical-align: middle;\n",
       "    }\n",
       "\n",
       "    .dataframe tbody tr th {\n",
       "        vertical-align: top;\n",
       "    }\n",
       "\n",
       "    .dataframe thead th {\n",
       "        text-align: right;\n",
       "    }\n",
       "</style>\n",
       "<table border=\"1\" class=\"dataframe\">\n",
       "  <thead>\n",
       "    <tr style=\"text-align: right;\">\n",
       "      <th></th>\n",
       "      <th>PassengerId</th>\n",
       "      <th>Survived</th>\n",
       "      <th>Pclass</th>\n",
       "      <th>Age</th>\n",
       "      <th>SibSp</th>\n",
       "      <th>Parch</th>\n",
       "      <th>Fare</th>\n",
       "    </tr>\n",
       "  </thead>\n",
       "  <tbody>\n",
       "    <tr>\n",
       "      <th>count</th>\n",
       "      <td>891.000000</td>\n",
       "      <td>891.000000</td>\n",
       "      <td>891.000000</td>\n",
       "      <td>714.000000</td>\n",
       "      <td>891.000000</td>\n",
       "      <td>891.000000</td>\n",
       "      <td>891.000000</td>\n",
       "    </tr>\n",
       "    <tr>\n",
       "      <th>mean</th>\n",
       "      <td>446.000000</td>\n",
       "      <td>0.383838</td>\n",
       "      <td>2.308642</td>\n",
       "      <td>29.699118</td>\n",
       "      <td>0.523008</td>\n",
       "      <td>0.381594</td>\n",
       "      <td>32.204208</td>\n",
       "    </tr>\n",
       "    <tr>\n",
       "      <th>std</th>\n",
       "      <td>257.353842</td>\n",
       "      <td>0.486592</td>\n",
       "      <td>0.836071</td>\n",
       "      <td>14.526497</td>\n",
       "      <td>1.102743</td>\n",
       "      <td>0.806057</td>\n",
       "      <td>49.693429</td>\n",
       "    </tr>\n",
       "    <tr>\n",
       "      <th>min</th>\n",
       "      <td>1.000000</td>\n",
       "      <td>0.000000</td>\n",
       "      <td>1.000000</td>\n",
       "      <td>0.420000</td>\n",
       "      <td>0.000000</td>\n",
       "      <td>0.000000</td>\n",
       "      <td>0.000000</td>\n",
       "    </tr>\n",
       "    <tr>\n",
       "      <th>25%</th>\n",
       "      <td>223.500000</td>\n",
       "      <td>0.000000</td>\n",
       "      <td>2.000000</td>\n",
       "      <td>20.125000</td>\n",
       "      <td>0.000000</td>\n",
       "      <td>0.000000</td>\n",
       "      <td>7.910400</td>\n",
       "    </tr>\n",
       "    <tr>\n",
       "      <th>50%</th>\n",
       "      <td>446.000000</td>\n",
       "      <td>0.000000</td>\n",
       "      <td>3.000000</td>\n",
       "      <td>28.000000</td>\n",
       "      <td>0.000000</td>\n",
       "      <td>0.000000</td>\n",
       "      <td>14.454200</td>\n",
       "    </tr>\n",
       "    <tr>\n",
       "      <th>75%</th>\n",
       "      <td>668.500000</td>\n",
       "      <td>1.000000</td>\n",
       "      <td>3.000000</td>\n",
       "      <td>38.000000</td>\n",
       "      <td>1.000000</td>\n",
       "      <td>0.000000</td>\n",
       "      <td>31.000000</td>\n",
       "    </tr>\n",
       "    <tr>\n",
       "      <th>max</th>\n",
       "      <td>891.000000</td>\n",
       "      <td>1.000000</td>\n",
       "      <td>3.000000</td>\n",
       "      <td>80.000000</td>\n",
       "      <td>8.000000</td>\n",
       "      <td>6.000000</td>\n",
       "      <td>512.329200</td>\n",
       "    </tr>\n",
       "  </tbody>\n",
       "</table>\n",
       "</div>"
      ],
      "text/plain": [
       "       PassengerId    Survived      Pclass         Age       SibSp  \\\n",
       "count   891.000000  891.000000  891.000000  714.000000  891.000000   \n",
       "mean    446.000000    0.383838    2.308642   29.699118    0.523008   \n",
       "std     257.353842    0.486592    0.836071   14.526497    1.102743   \n",
       "min       1.000000    0.000000    1.000000    0.420000    0.000000   \n",
       "25%     223.500000    0.000000    2.000000   20.125000    0.000000   \n",
       "50%     446.000000    0.000000    3.000000   28.000000    0.000000   \n",
       "75%     668.500000    1.000000    3.000000   38.000000    1.000000   \n",
       "max     891.000000    1.000000    3.000000   80.000000    8.000000   \n",
       "\n",
       "            Parch        Fare  \n",
       "count  891.000000  891.000000  \n",
       "mean     0.381594   32.204208  \n",
       "std      0.806057   49.693429  \n",
       "min      0.000000    0.000000  \n",
       "25%      0.000000    7.910400  \n",
       "50%      0.000000   14.454200  \n",
       "75%      0.000000   31.000000  \n",
       "max      6.000000  512.329200  "
      ]
     },
     "execution_count": 8,
     "metadata": {},
     "output_type": "execute_result"
    }
   ],
   "source": [
    "df.describe()"
   ]
  },
  {
   "cell_type": "code",
   "execution_count": 9,
   "metadata": {},
   "outputs": [],
   "source": [
    "# Method 3: astropy.table\n",
    "from astropy.table import Table, unique"
   ]
  },
  {
   "cell_type": "code",
   "execution_count": 10,
   "metadata": {},
   "outputs": [],
   "source": [
    "tab = Table.read('titanic.csv')"
   ]
  },
  {
   "cell_type": "code",
   "execution_count": 11,
   "metadata": {},
   "outputs": [
    {
     "data": {
      "text/plain": [
       "<Table masked=True length=891>\n",
       "    name     dtype  n_bad\n",
       "----------- ------- -----\n",
       "PassengerId   int64     0\n",
       "   Survived   int64     0\n",
       "     Pclass   int64     0\n",
       "       Name   str82     0\n",
       "        Sex    str6     0\n",
       "        Age float64   177\n",
       "      SibSp   int64     0\n",
       "      Parch   int64     0\n",
       "     Ticket   str18     0\n",
       "       Fare float64     0\n",
       "      Cabin   str15   687\n",
       "   Embarked    str1     2"
      ]
     },
     "execution_count": 11,
     "metadata": {},
     "output_type": "execute_result"
    }
   ],
   "source": [
    "tab.info"
   ]
  },
  {
   "cell_type": "code",
   "execution_count": 12,
   "metadata": {},
   "outputs": [
    {
     "data": {
      "text/html": [
       "<i>Table masked=True length=891</i>\n",
       "<table id=\"table4605202560\" class=\"table-striped table-bordered table-condensed\">\n",
       "<thead><tr><th>PassengerId</th><th>Survived</th><th>Pclass</th><th>Name</th><th>Sex</th><th>Age</th><th>SibSp</th><th>Parch</th><th>Ticket</th><th>Fare</th><th>Cabin</th><th>Embarked</th></tr></thead>\n",
       "<thead><tr><th>int64</th><th>int64</th><th>int64</th><th>str82</th><th>str6</th><th>float64</th><th>int64</th><th>int64</th><th>str18</th><th>float64</th><th>str15</th><th>str1</th></tr></thead>\n",
       "<tr><td>1</td><td>0</td><td>3</td><td>Braund, Mr. Owen Harris</td><td>male</td><td>22.0</td><td>1</td><td>0</td><td>A/5 21171</td><td>7.25</td><td>--</td><td>S</td></tr>\n",
       "<tr><td>2</td><td>1</td><td>1</td><td>Cumings, Mrs. John Bradley (Florence Briggs Thayer)</td><td>female</td><td>38.0</td><td>1</td><td>0</td><td>PC 17599</td><td>71.2833</td><td>C85</td><td>C</td></tr>\n",
       "<tr><td>3</td><td>1</td><td>3</td><td>Heikkinen, Miss. Laina</td><td>female</td><td>26.0</td><td>0</td><td>0</td><td>STON/O2. 3101282</td><td>7.925</td><td>--</td><td>S</td></tr>\n",
       "<tr><td>4</td><td>1</td><td>1</td><td>Futrelle, Mrs. Jacques Heath (Lily May Peel)</td><td>female</td><td>35.0</td><td>1</td><td>0</td><td>113803</td><td>53.1</td><td>C123</td><td>S</td></tr>\n",
       "<tr><td>5</td><td>0</td><td>3</td><td>Allen, Mr. William Henry</td><td>male</td><td>35.0</td><td>0</td><td>0</td><td>373450</td><td>8.05</td><td>--</td><td>S</td></tr>\n",
       "<tr><td>6</td><td>0</td><td>3</td><td>Moran, Mr. James</td><td>male</td><td>--</td><td>0</td><td>0</td><td>330877</td><td>8.4583</td><td>--</td><td>Q</td></tr>\n",
       "<tr><td>7</td><td>0</td><td>1</td><td>McCarthy, Mr. Timothy J</td><td>male</td><td>54.0</td><td>0</td><td>0</td><td>17463</td><td>51.8625</td><td>E46</td><td>S</td></tr>\n",
       "<tr><td>8</td><td>0</td><td>3</td><td>Palsson, Master. Gosta Leonard</td><td>male</td><td>2.0</td><td>3</td><td>1</td><td>349909</td><td>21.075</td><td>--</td><td>S</td></tr>\n",
       "<tr><td>9</td><td>1</td><td>3</td><td>Johnson, Mrs. Oscar W (Elisabeth Vilhelmina Berg)</td><td>female</td><td>27.0</td><td>0</td><td>2</td><td>347742</td><td>11.1333</td><td>--</td><td>S</td></tr>\n",
       "<tr><td>10</td><td>1</td><td>2</td><td>Nasser, Mrs. Nicholas (Adele Achem)</td><td>female</td><td>14.0</td><td>1</td><td>0</td><td>237736</td><td>30.0708</td><td>--</td><td>C</td></tr>\n",
       "<tr><td>...</td><td>...</td><td>...</td><td>...</td><td>...</td><td>...</td><td>...</td><td>...</td><td>...</td><td>...</td><td>...</td><td>...</td></tr>\n",
       "<tr><td>882</td><td>0</td><td>3</td><td>Markun, Mr. Johann</td><td>male</td><td>33.0</td><td>0</td><td>0</td><td>349257</td><td>7.8958</td><td>--</td><td>S</td></tr>\n",
       "<tr><td>883</td><td>0</td><td>3</td><td>Dahlberg, Miss. Gerda Ulrika</td><td>female</td><td>22.0</td><td>0</td><td>0</td><td>7552</td><td>10.5167</td><td>--</td><td>S</td></tr>\n",
       "<tr><td>884</td><td>0</td><td>2</td><td>Banfield, Mr. Frederick James</td><td>male</td><td>28.0</td><td>0</td><td>0</td><td>C.A./SOTON 34068</td><td>10.5</td><td>--</td><td>S</td></tr>\n",
       "<tr><td>885</td><td>0</td><td>3</td><td>Sutehall, Mr. Henry Jr</td><td>male</td><td>25.0</td><td>0</td><td>0</td><td>SOTON/OQ 392076</td><td>7.05</td><td>--</td><td>S</td></tr>\n",
       "<tr><td>886</td><td>0</td><td>3</td><td>Rice, Mrs. William (Margaret Norton)</td><td>female</td><td>39.0</td><td>0</td><td>5</td><td>382652</td><td>29.125</td><td>--</td><td>Q</td></tr>\n",
       "<tr><td>887</td><td>0</td><td>2</td><td>Montvila, Rev. Juozas</td><td>male</td><td>27.0</td><td>0</td><td>0</td><td>211536</td><td>13.0</td><td>--</td><td>S</td></tr>\n",
       "<tr><td>888</td><td>1</td><td>1</td><td>Graham, Miss. Margaret Edith</td><td>female</td><td>19.0</td><td>0</td><td>0</td><td>112053</td><td>30.0</td><td>B42</td><td>S</td></tr>\n",
       "<tr><td>889</td><td>0</td><td>3</td><td>Johnston, Miss. Catherine Helen &quot;Carrie&quot;&quot;&quot;</td><td>female</td><td>--</td><td>1</td><td>2</td><td>W./C. 6607</td><td>23.45</td><td>--</td><td>S</td></tr>\n",
       "<tr><td>890</td><td>1</td><td>1</td><td>Behr, Mr. Karl Howell</td><td>male</td><td>26.0</td><td>0</td><td>0</td><td>111369</td><td>30.0</td><td>C148</td><td>C</td></tr>\n",
       "<tr><td>891</td><td>0</td><td>3</td><td>Dooley, Mr. Patrick</td><td>male</td><td>32.0</td><td>0</td><td>0</td><td>370376</td><td>7.75</td><td>--</td><td>Q</td></tr>\n",
       "</table>"
      ],
      "text/plain": [
       "<Table masked=True length=891>\n",
       "PassengerId Survived Pclass ...   Fare  Cabin Embarked\n",
       "   int64     int64   int64  ... float64 str15   str1  \n",
       "----------- -------- ------ ... ------- ----- --------\n",
       "          1        0      3 ...    7.25    --        S\n",
       "          2        1      1 ... 71.2833   C85        C\n",
       "          3        1      3 ...   7.925    --        S\n",
       "          4        1      1 ...    53.1  C123        S\n",
       "          5        0      3 ...    8.05    --        S\n",
       "          6        0      3 ...  8.4583    --        Q\n",
       "          7        0      1 ... 51.8625   E46        S\n",
       "          8        0      3 ...  21.075    --        S\n",
       "          9        1      3 ... 11.1333    --        S\n",
       "         10        1      2 ... 30.0708    --        C\n",
       "        ...      ...    ... ...     ...   ...      ...\n",
       "        882        0      3 ...  7.8958    --        S\n",
       "        883        0      3 ... 10.5167    --        S\n",
       "        884        0      2 ...    10.5    --        S\n",
       "        885        0      3 ...    7.05    --        S\n",
       "        886        0      3 ...  29.125    --        Q\n",
       "        887        0      2 ...    13.0    --        S\n",
       "        888        1      1 ...    30.0   B42        S\n",
       "        889        0      3 ...   23.45    --        S\n",
       "        890        1      1 ...    30.0  C148        C\n",
       "        891        0      3 ...    7.75    --        Q"
      ]
     },
     "execution_count": 12,
     "metadata": {},
     "output_type": "execute_result"
    }
   ],
   "source": [
    "tab"
   ]
  },
  {
   "cell_type": "markdown",
   "metadata": {},
   "source": [
    "177 entries for age are missing"
   ]
  },
  {
   "cell_type": "markdown",
   "metadata": {},
   "source": [
    "#### Standard Python \n",
    "The data are read in a list. Further parsing is required.\n",
    "\n",
    "#### Pandas\n",
    "The missing values are automatically replaced by NaN.\n",
    "Pandas object-type means string.\n",
    "\n",
    "#### Astropy\n",
    "The missing values are not automatically assigned NaN."
   ]
  },
  {
   "cell_type": "markdown",
   "metadata": {},
   "source": [
    "### Astropy table quantities and units\n",
    "\n",
    "A column can have specific units for quantitative data."
   ]
  },
  {
   "cell_type": "code",
   "execution_count": 13,
   "metadata": {},
   "outputs": [
    {
     "data": {
      "text/plain": [
       "  Primary name | Unit definition | Aliases \n",
       "[\n",
       "  a            | 3.15576e+07 s   | annum    ,\n",
       "  d            | 86400 s         | day      ,\n",
       "  fortnight    | 1.2096e+06 s    |          ,\n",
       "  h            | 3600 s          | hour, hr ,\n",
       "  min          | 60 s            | minute   ,\n",
       "  s            | irreducible     | second   ,\n",
       "  sday         | 86164.1 s       |          ,\n",
       "  wk           | 604800 s        | week     ,\n",
       "  yr           | 3.15576e+07 s   | year     ,\n",
       "]"
      ]
     },
     "execution_count": 13,
     "metadata": {},
     "output_type": "execute_result"
    }
   ],
   "source": [
    "from astropy import units as u\n",
    "u.s.find_equivalent_units() # find time units in addition to seconds (s)"
   ]
  },
  {
   "cell_type": "code",
   "execution_count": 14,
   "metadata": {},
   "outputs": [
    {
     "data": {
      "text/html": [
       "<i>Table masked=True length=891</i>\n",
       "<table id=\"table4605202560\" class=\"table-striped table-bordered table-condensed\">\n",
       "<thead><tr><th>PassengerId</th><th>Survived</th><th>Pclass</th><th>Name</th><th>Sex</th><th>Age</th><th>SibSp</th><th>Parch</th><th>Ticket</th><th>Fare</th><th>Cabin</th><th>Embarked</th></tr></thead>\n",
       "<thead><tr><th></th><th></th><th></th><th></th><th></th><th>yr</th><th></th><th></th><th></th><th></th><th></th><th></th></tr></thead>\n",
       "<thead><tr><th>int64</th><th>int64</th><th>int64</th><th>str82</th><th>str6</th><th>float64</th><th>int64</th><th>int64</th><th>str18</th><th>float64</th><th>str15</th><th>str1</th></tr></thead>\n",
       "<tr><td>1</td><td>0</td><td>3</td><td>Braund, Mr. Owen Harris</td><td>male</td><td>22.0</td><td>1</td><td>0</td><td>A/5 21171</td><td>7.25</td><td>--</td><td>S</td></tr>\n",
       "<tr><td>2</td><td>1</td><td>1</td><td>Cumings, Mrs. John Bradley (Florence Briggs Thayer)</td><td>female</td><td>38.0</td><td>1</td><td>0</td><td>PC 17599</td><td>71.2833</td><td>C85</td><td>C</td></tr>\n",
       "<tr><td>3</td><td>1</td><td>3</td><td>Heikkinen, Miss. Laina</td><td>female</td><td>26.0</td><td>0</td><td>0</td><td>STON/O2. 3101282</td><td>7.925</td><td>--</td><td>S</td></tr>\n",
       "<tr><td>4</td><td>1</td><td>1</td><td>Futrelle, Mrs. Jacques Heath (Lily May Peel)</td><td>female</td><td>35.0</td><td>1</td><td>0</td><td>113803</td><td>53.1</td><td>C123</td><td>S</td></tr>\n",
       "<tr><td>5</td><td>0</td><td>3</td><td>Allen, Mr. William Henry</td><td>male</td><td>35.0</td><td>0</td><td>0</td><td>373450</td><td>8.05</td><td>--</td><td>S</td></tr>\n",
       "<tr><td>6</td><td>0</td><td>3</td><td>Moran, Mr. James</td><td>male</td><td>--</td><td>0</td><td>0</td><td>330877</td><td>8.4583</td><td>--</td><td>Q</td></tr>\n",
       "<tr><td>7</td><td>0</td><td>1</td><td>McCarthy, Mr. Timothy J</td><td>male</td><td>54.0</td><td>0</td><td>0</td><td>17463</td><td>51.8625</td><td>E46</td><td>S</td></tr>\n",
       "<tr><td>8</td><td>0</td><td>3</td><td>Palsson, Master. Gosta Leonard</td><td>male</td><td>2.0</td><td>3</td><td>1</td><td>349909</td><td>21.075</td><td>--</td><td>S</td></tr>\n",
       "<tr><td>9</td><td>1</td><td>3</td><td>Johnson, Mrs. Oscar W (Elisabeth Vilhelmina Berg)</td><td>female</td><td>27.0</td><td>0</td><td>2</td><td>347742</td><td>11.1333</td><td>--</td><td>S</td></tr>\n",
       "<tr><td>...</td><td>...</td><td>...</td><td>...</td><td>...</td><td>...</td><td>...</td><td>...</td><td>...</td><td>...</td><td>...</td><td>...</td></tr>\n",
       "<tr><td>882</td><td>0</td><td>3</td><td>Markun, Mr. Johann</td><td>male</td><td>33.0</td><td>0</td><td>0</td><td>349257</td><td>7.8958</td><td>--</td><td>S</td></tr>\n",
       "<tr><td>883</td><td>0</td><td>3</td><td>Dahlberg, Miss. Gerda Ulrika</td><td>female</td><td>22.0</td><td>0</td><td>0</td><td>7552</td><td>10.5167</td><td>--</td><td>S</td></tr>\n",
       "<tr><td>884</td><td>0</td><td>2</td><td>Banfield, Mr. Frederick James</td><td>male</td><td>28.0</td><td>0</td><td>0</td><td>C.A./SOTON 34068</td><td>10.5</td><td>--</td><td>S</td></tr>\n",
       "<tr><td>885</td><td>0</td><td>3</td><td>Sutehall, Mr. Henry Jr</td><td>male</td><td>25.0</td><td>0</td><td>0</td><td>SOTON/OQ 392076</td><td>7.05</td><td>--</td><td>S</td></tr>\n",
       "<tr><td>886</td><td>0</td><td>3</td><td>Rice, Mrs. William (Margaret Norton)</td><td>female</td><td>39.0</td><td>0</td><td>5</td><td>382652</td><td>29.125</td><td>--</td><td>Q</td></tr>\n",
       "<tr><td>887</td><td>0</td><td>2</td><td>Montvila, Rev. Juozas</td><td>male</td><td>27.0</td><td>0</td><td>0</td><td>211536</td><td>13.0</td><td>--</td><td>S</td></tr>\n",
       "<tr><td>888</td><td>1</td><td>1</td><td>Graham, Miss. Margaret Edith</td><td>female</td><td>19.0</td><td>0</td><td>0</td><td>112053</td><td>30.0</td><td>B42</td><td>S</td></tr>\n",
       "<tr><td>889</td><td>0</td><td>3</td><td>Johnston, Miss. Catherine Helen &quot;Carrie&quot;&quot;&quot;</td><td>female</td><td>--</td><td>1</td><td>2</td><td>W./C. 6607</td><td>23.45</td><td>--</td><td>S</td></tr>\n",
       "<tr><td>890</td><td>1</td><td>1</td><td>Behr, Mr. Karl Howell</td><td>male</td><td>26.0</td><td>0</td><td>0</td><td>111369</td><td>30.0</td><td>C148</td><td>C</td></tr>\n",
       "<tr><td>891</td><td>0</td><td>3</td><td>Dooley, Mr. Patrick</td><td>male</td><td>32.0</td><td>0</td><td>0</td><td>370376</td><td>7.75</td><td>--</td><td>Q</td></tr>\n",
       "</table>"
      ],
      "text/plain": [
       "<Table masked=True length=891>\n",
       "PassengerId Survived Pclass ...   Fare  Cabin Embarked\n",
       "                            ...                       \n",
       "   int64     int64   int64  ... float64 str15   str1  \n",
       "----------- -------- ------ ... ------- ----- --------\n",
       "          1        0      3 ...    7.25    --        S\n",
       "          2        1      1 ... 71.2833   C85        C\n",
       "          3        1      3 ...   7.925    --        S\n",
       "          4        1      1 ...    53.1  C123        S\n",
       "          5        0      3 ...    8.05    --        S\n",
       "          6        0      3 ...  8.4583    --        Q\n",
       "          7        0      1 ... 51.8625   E46        S\n",
       "          8        0      3 ...  21.075    --        S\n",
       "          9        1      3 ... 11.1333    --        S\n",
       "        ...      ...    ... ...     ...   ...      ...\n",
       "        882        0      3 ...  7.8958    --        S\n",
       "        883        0      3 ... 10.5167    --        S\n",
       "        884        0      2 ...    10.5    --        S\n",
       "        885        0      3 ...    7.05    --        S\n",
       "        886        0      3 ...  29.125    --        Q\n",
       "        887        0      2 ...    13.0    --        S\n",
       "        888        1      1 ...    30.0   B42        S\n",
       "        889        0      3 ...   23.45    --        S\n",
       "        890        1      1 ...    30.0  C148        C\n",
       "        891        0      3 ...    7.75    --        Q"
      ]
     },
     "execution_count": 14,
     "metadata": {},
     "output_type": "execute_result"
    }
   ],
   "source": [
    "tab['Age'].unit='year'\n",
    "tab"
   ]
  },
  {
   "cell_type": "markdown",
   "metadata": {},
   "source": [
    "One can easy list the ages in days."
   ]
  },
  {
   "cell_type": "code",
   "execution_count": 15,
   "metadata": {},
   "outputs": [
    {
     "data": {
      "text/latex": [
       "$[8035.5,~13879.5,~9496.5,~\\dots,~0,~9496.5,~11688] \\; \\mathrm{d}$"
      ],
      "text/plain": [
       "<Quantity [ 8035.5   , 13879.5   ,  9496.5   , 12783.75  , 12783.75  ,\n",
       "               0.    , 19723.5   ,   730.5   ,  9861.75  ,  5113.5   ,\n",
       "            1461.    , 21184.5   ,  7305.    , 14244.75  ,  5113.5   ,\n",
       "           20088.75  ,   730.5   ,     0.    , 11322.75  ,     0.    ,\n",
       "           12783.75  , 12418.5   ,  5478.75  , 10227.    ,  2922.    ,\n",
       "           13879.5   ,     0.    ,  6939.75  ,     0.    ,     0.    ,\n",
       "           14610.    ,     0.    ,     0.    , 24106.5   , 10227.    ,\n",
       "           15340.5   ,     0.    ,  7670.25  ,  6574.5   ,  5113.5   ,\n",
       "           14610.    ,  9861.75  ,     0.    ,  1095.75  ,  6939.75  ,\n",
       "               0.    ,     0.    ,     0.    ,     0.    ,  6574.5   ,\n",
       "            2556.75  ,  7670.25  , 17897.25  , 10592.25  , 23741.25  ,\n",
       "               0.    ,  7670.25  , 10409.625 ,  1826.25  ,  4017.75  ,\n",
       "            8035.5   , 13879.5   , 16436.25  ,  1461.    ,     0.    ,\n",
       "               0.    , 10592.25  ,  6939.75  ,  6209.25  ,  9496.5   ,\n",
       "           11688.    ,  5844.    ,  7670.25  ,  9496.5   , 11688.    ,\n",
       "            9131.25  ,     0.    ,     0.    ,   303.1575, 10957.5   ,\n",
       "            8035.5   , 10592.25  ,     0.    , 10227.    ,  6209.25  ,\n",
       "           12053.25  ,  5844.    ,     0.    ,  8400.75  ,  8766.    ,\n",
       "           10592.25  ,  7305.    , 16801.5   ,  9496.5   , 21549.75  ,\n",
       "               0.    , 25932.75  ,  8400.75  , 12418.5   , 12418.5   ,\n",
       "           10227.    ,     0.    ,  7670.25  , 12053.25  , 13514.25  ,\n",
       "           10227.    ,  7670.25  ,     0.    , 13879.5   ,     0.    ,\n",
       "           17166.75  ,  5296.125 ,  8035.5   ,  7305.    ,  6209.25  ,\n",
       "            7670.25  , 25750.125 , 10592.25  ,  8766.    ,   730.5   ,\n",
       "            7670.25  ,     0.    , 11870.625 , 11870.625 , 19723.5   ,\n",
       "            4383.    ,     0.    ,  8766.    ,     0.    , 16436.25  ,\n",
       "           12053.25  ,  7305.    , 17166.75  , 10592.25  ,  9131.25  ,\n",
       "            8400.75  ,  6939.75  , 13514.25  ,  5844.    ,  8766.    ,\n",
       "               0.    ,  8035.5   ,  8766.    ,  6939.75  ,  6574.5   ,\n",
       "            6939.75  ,  9861.75  ,  3287.25  , 13331.625 , 15340.5   ,\n",
       "           18627.75  ,  8035.5   , 20271.375 , 14792.625 ,     0.    ,\n",
       "           18627.75  ,  5844.    , 10957.5   ,     0.    ,     0.    ,\n",
       "           16071.    , 14610.    ,  9496.5   ,  6209.25  ,   365.25  ,\n",
       "            3287.25  ,     0.    , 16436.25  ,     0.    , 10227.    ,\n",
       "           22280.25  ,  1461.    ,   365.25  ,  7670.25  , 20454.    ,\n",
       "            6574.5   ,     0.    , 18262.5   , 10957.5   , 13149.    ,\n",
       "               0.    ,     0.    ,  3287.25  ,   365.25  ,  1461.    ,\n",
       "               0.    ,     0.    , 16436.25  , 14610.    , 13149.    ,\n",
       "           11688.    ,  6939.75  ,  6939.75  ,  1095.75  , 16071.    ,\n",
       "           21184.5   ,     0.    , 15340.5   ,     0.    ,  8766.    ,\n",
       "           10227.    ,     0.    , 12418.5   , 16618.875 ,  6574.5   ,\n",
       "             730.5   , 11688.    ,  9496.5   ,  5844.    , 14610.    ,\n",
       "            8766.    , 12783.75  ,  8035.5   , 10957.5   ,     0.    ,\n",
       "           11322.75  ,  9861.75  , 15340.5   , 11688.    , 10957.5   ,\n",
       "            5844.    ,  9861.75  , 18627.75  ,     0.    , 13879.5   ,\n",
       "            8035.5   ,  6939.75  ,  7487.625 ,  6574.5   ,     0.    ,\n",
       "           12783.75  , 10592.25  , 21549.75  ,  1826.25  ,  8766.    ,\n",
       "               0.    , 16071.    ,  2922.    ,  6939.75  , 12053.25  ,\n",
       "               0.    ,     0.    , 10592.25  ,  8035.5   , 10957.5   ,\n",
       "           16071.    ,  9131.25  ,  8766.    , 13514.25  , 19723.5   ,\n",
       "               0.    , 10592.25  , 22645.5   , 10957.5   , 14975.25  ,\n",
       "           10592.25  ,     0.    , 10957.5   , 12783.75  , 18262.5   ,\n",
       "               0.    ,  1095.75  , 18993.    , 14610.    ,     0.    ,\n",
       "           13149.    ,  5844.    ,  9131.25  , 21184.5   , 12783.75  ,\n",
       "               0.    ,  9131.25  , 14975.25  , 13514.25  ,     0.    ,\n",
       "           23010.75  , 16436.25  ,     0.    ,  2556.75  , 12783.75  ,\n",
       "           23741.25  , 10227.    ,  5844.    ,  6939.75  ,     0.    ,\n",
       "           12053.25  , 10957.5   ,  8035.5   , 15340.5   ,  8035.5   ,\n",
       "            9496.5   ,  6939.75  , 13149.    ,  8766.    ,  8766.    ,\n",
       "               0.    ,  8583.375 ,   730.5   ,     0.    , 18262.5   ,\n",
       "               0.    ,     0.    ,  6939.75  ,     0.    ,     0.    ,\n",
       "             336.03  ,     0.    ,  6209.25  , 10957.5   , 10957.5   ,\n",
       "            8766.    ,  6574.5   ,  9496.5   , 10227.    , 15705.75  ,\n",
       "            9496.5   ,  8766.    , 19723.5   , 11322.75  , 14610.    ,\n",
       "            8035.5   ,  9861.75  , 10957.5   ,  8035.5   ,     0.    ,\n",
       "           13149.    , 22280.25  , 13149.    , 11322.75  ,  5844.    ,\n",
       "               0.    , 16618.875 , 13879.5   ,  5844.    ,     0.    ,\n",
       "               0.    , 10592.25  , 14975.25  , 16436.25  , 16436.25  ,\n",
       "             730.5   ,  8766.    , 10227.    ,  9131.25  , 13149.    ,\n",
       "            8766.    , 14610.    ,     0.    ,  1095.75  , 15340.5   ,\n",
       "            8400.75  ,     0.    ,  5478.75  ,  9131.25  ,     0.    ,\n",
       "           10227.    ,  8035.5   , 13879.5   ,     0.    ,     0.    ,\n",
       "           14610.    , 10592.25  , 16436.25  , 12783.75  ,     0.    ,\n",
       "           10957.5   , 21915.    ,     0.    ,     0.    ,  8766.    ,\n",
       "            9131.25  ,  6574.5   ,  6939.75  ,  8035.5   ,  1095.75  ,\n",
       "               0.    ,  8035.5   ,  9861.75  ,  7305.    ,  6939.75  ,\n",
       "           15340.5   ,   365.25  , 11688.    , 12783.75  ,     0.    ,\n",
       "            6574.5   ,   365.25  , 13149.    ,     0.    ,  6209.25  ,\n",
       "           13149.    ,  7670.25  , 10227.    ,  8400.75  ,  8766.    ,\n",
       "            8035.5   , 11322.75  , 16801.5   ,  8400.75  , 10227.    ,\n",
       "           14244.75  ,  9496.5   ,  7670.25  , 10227.    ,  7305.    ,\n",
       "           12418.5   , 18627.75  ,  1095.75  ,  7670.25  ,     0.    ,\n",
       "               0.    ,     0.    , 12053.25  ,     0.    , 16071.    ,\n",
       "               0.    , 12418.5   ,  6574.5   , 10957.5   ,  3652.5   ,\n",
       "               0.    ,  7670.25  , 10592.25  , 10227.    ,  6574.5   ,\n",
       "               0.    , 10227.    ,  6939.75  ,     0.    , 11688.    ,\n",
       "           10227.    ,     0.    , 15340.5   ,  6209.25  , 18262.5   ,\n",
       "            5113.5   ,  7670.25  ,  8766.    , 23376.    , 11322.75  ,\n",
       "           16436.25  ,  7305.    ,  9131.25  , 10227.    ,     0.    ,\n",
       "            1461.    ,  4748.25  , 12418.5   ,  1826.25  , 18993.    ,\n",
       "           13149.    ,     0.    , 10957.5   , 17897.25  ,     0.    ,\n",
       "           10592.25  , 23741.25  ,     0.    , 18262.5   ,     0.    ,\n",
       "           17532.    , 12418.5   , 17166.75  , 17532.    ,     0.    ,\n",
       "           13879.5   ,     0.    , 20454.    ,     0.    ,   273.9375,\n",
       "               0.    , 13879.5   , 12053.25  ,  8400.75  ,  8035.5   ,\n",
       "               0.    , 12418.5   , 10592.25  ,  8035.5   ,   730.5   ,\n",
       "            3287.25  ,     0.    , 18262.5   , 23010.75  ,  9131.25  ,\n",
       "               0.    , 12783.75  , 21184.5   , 10957.5   ,  3287.25  ,\n",
       "               0.    ,  7670.25  , 20088.75  , 25932.75  ,  7670.25  ,\n",
       "               0.    , 19723.5   ,     0.    ,  9131.25  ,  8766.    ,\n",
       "            6209.25  ,  7670.25  ,     0.    , 13514.25  ,  5844.    ,\n",
       "            6574.5   , 12053.25  ,     0.    , 10227.    ,  9496.5   ,\n",
       "           10592.25  ,     0.    , 13149.    , 19723.5   ,  8766.    ,\n",
       "           17166.75  , 12418.5   ,     0.    , 13149.    , 11688.    ,\n",
       "           10957.5   ,  8035.5   ,     0.    , 16071.    ,     0.    ,\n",
       "           14792.625 , 18262.5   ,     0.    , 14244.75  ,  8400.75  ,\n",
       "             730.5   ,     0.    ,  6209.25  ,     0.    , 10957.5   ,\n",
       "            2556.75  , 16436.25  , 10957.5   ,     0.    ,  8035.5   ,\n",
       "           13149.    ,  3287.25  ,  4017.75  , 11688.    , 18262.5   ,\n",
       "           23376.    ,  6939.75  ,     0.    , 12053.25  ,  2922.    ,\n",
       "            6209.25  ,  9861.75  ,     0.    ,  8035.5   ,  8035.5   ,\n",
       "           22645.5   , 17532.    ,     0.    , 14244.75  , 13149.    ,\n",
       "               0.    , 14610.    , 10227.    ,     0.    ,     0.    ,\n",
       "            8766.    ,  6939.75  , 10592.25  ,     0.    , 11688.    ,\n",
       "           22645.5   , 19358.25  , 13149.    ,     0.    ,  5844.    ,\n",
       "            6939.75  , 12418.5   , 14244.75  ,     0.    , 11688.    ,\n",
       "            9131.25  , 14244.75  , 19723.5   , 13149.    ,     0.    ,\n",
       "            6574.5   , 17166.75  , 21915.    ,  8035.5   ,     0.    ,\n",
       "           12783.75  , 18993.    , 17166.75  ,     0.    , 13514.25  ,\n",
       "           13149.    ,     0.    , 17897.25  ,     0.    , 17897.25  ,\n",
       "            8766.    ,     0.    ,     0.    , 16071.    , 12783.75  ,\n",
       "           13149.    , 10957.5   ,  9861.75  ,  8035.5   , 14610.    ,\n",
       "           14244.75  ,     0.    ,     0.    ,     0.    , 12783.75  ,\n",
       "            8766.    , 12418.5   ,  9496.5   ,  1461.    ,  9496.5   ,\n",
       "            9861.75  , 15340.5   ,  7305.    ,  7670.25  ,  7670.25  ,\n",
       "           22280.25  , 20819.25  ,  7670.25  ,  9496.5   ,     0.    ,\n",
       "           29220.    , 18627.75  , 11688.    ,     0.    ,  3287.25  ,\n",
       "           10227.    , 11688.    , 11322.75  , 14975.25  ,     0.    ,\n",
       "            7305.    ,  8766.    ,   730.5   ,     0.    ,   273.9375,\n",
       "           17532.    ,  6939.75  , 20454.    ,     0.    ,  8400.75  ,\n",
       "               0.    ,  6574.5   ,  7670.25  ,     0.    ,  6574.5   ,\n",
       "            8766.    ,     0.    , 11688.    ,  8400.75  , 21184.5   ,\n",
       "           18262.5   , 14610.    , 17166.75  , 13149.    ,  7305.    ,\n",
       "           11688.    ,  9131.25  ,     0.    , 15705.75  ,     0.    ,\n",
       "           14610.    , 11322.75  , 25567.5   , 11322.75  ,     0.    ,\n",
       "            6574.5   ,  8948.625 ,  6574.5   , 15705.75  , 13149.    ,\n",
       "               0.    ,  9861.75  ,  7305.    ,  5113.5   , 21915.    ,\n",
       "            9131.25  ,  5113.5   ,  6939.75  ,  6574.5   ,  5478.75  ,\n",
       "           11322.75  ,  1461.    ,     0.    ,  9131.25  , 21915.    ,\n",
       "           18993.    , 16071.    ,     0.    , 17897.25  , 15340.5   ,\n",
       "            6574.5   , 12783.75  ,  6574.5   ,  9131.25  ,  9496.5   ,\n",
       "           14244.75  , 16436.25  , 15340.5   ,  8035.5   ,     0.    ,\n",
       "            8766.    ,     0.    , 17532.    , 10592.25  , 18993.    ,\n",
       "            6939.75  , 13879.5   ,  9861.75  ,     0.    , 12053.25  ,\n",
       "            2191.5   ,  6209.25  , 12418.5   , 18262.5   ,  9861.75  ,\n",
       "            7305.    , 10957.5   ,     0.    ,  9131.25  ,  9131.25  ,\n",
       "           10592.25  ,  4017.75  ,     0.    ,  8400.75  ,  8400.75  ,\n",
       "           10409.625 , 17532.    , 12783.75  ,     0.    ,     0.    ,\n",
       "               0.    , 13149.    ,  7670.25  ,  8766.    , 11322.75  ,\n",
       "           25567.5   ,  5844.    , 10957.5   ,  6939.75  , 11322.75  ,\n",
       "            1461.    ,  2191.5   , 12053.25  ,  8400.75  , 17532.    ,\n",
       "             244.7175, 10227.    ,  6574.5   , 12418.5   , 12053.25  ,\n",
       "               0.    , 14975.25  ,  7305.    , 13149.    ,  5844.    ,\n",
       "           18627.75  ,     0.    , 11140.125 ,     0.    , 11688.    ,\n",
       "            8766.    , 17532.    , 20819.25  ,     0.    , 19723.5   ,\n",
       "            6574.5   ,     0.    ,  1826.25  ,     0.    , 15705.75  ,\n",
       "            4748.25  ,  6209.25  , 10592.25  ,     0.    ,  9131.25  ,\n",
       "            9131.25  ,  6574.5   ,  2922.    ,   365.25  , 16801.5   ,\n",
       "               0.    ,  5844.    ,     0.    ,     0.    ,  9131.25  ,\n",
       "           14244.75  , 17897.25  , 11322.75  , 10957.5   , 10957.5   ,\n",
       "           12418.5   , 11322.75  ,  4017.75  ,   153.405 ,  9861.75  ,\n",
       "           11322.75  , 14244.75  ,  6574.5   , 14244.75  , 12053.25  ,\n",
       "            9496.5   , 14244.75  , 12783.75  ,  2191.5   , 11140.125 ,\n",
       "               0.    ,  8400.75  , 11322.75  , 15705.75  ,  3652.5   ,\n",
       "           18993.    ,  9861.75  , 13879.5   ,  9861.75  ,   730.5   ,\n",
       "               0.    ,     0.    ,   365.25  ,     0.    , 22645.5   ,\n",
       "            5478.75  ,   303.1575,     0.    ,  8400.75  ,  6574.5   ,\n",
       "           14244.75  ,  7670.25  ,     0.    , 11688.    ,     0.    ,\n",
       "            7305.    ,  5844.    , 10957.5   , 12601.125 ,  6209.25  ,\n",
       "           15340.5   ,     0.    , 12783.75  , 10227.    ,     0.    ,\n",
       "            1461.    , 27028.5   ,  3287.25  ,  5844.    , 16071.    ,\n",
       "            6574.5   , 16436.25  , 18627.75  ,  8766.    ,     0.    ,\n",
       "           14975.25  ,  7670.25  , 17532.    ,     0.    ,  8766.    ,\n",
       "           15340.5   ,  9861.75  , 11322.75  ,     0.    ,  1461.    ,\n",
       "            9496.5   , 17166.75  , 12053.25  , 17166.75  , 10227.    ,\n",
       "            5478.75  ,  7305.    ,  6939.75  ,     0.    , 20454.    ,\n",
       "            9131.25  , 12053.25  ,  8035.5   , 10227.    ,  9131.25  ,\n",
       "           14244.75  ,  9861.75  ,  6939.75  ,     0.    ,  9496.5   ,\n",
       "           11688.    ] d>"
      ]
     },
     "execution_count": 15,
     "metadata": {},
     "output_type": "execute_result"
    }
   ],
   "source": [
    "tab['Age'].to(u.day)"
   ]
  },
  {
   "cell_type": "code",
   "execution_count": 16,
   "metadata": {},
   "outputs": [
    {
     "name": "stdout",
     "output_type": "stream",
     "text": [
      "<Table masked=True length=891>\n",
      "    name            mean                std         min    max    n_bad\n",
      "----------- ------------------- ------------------- ---- -------- -----\n",
      "PassengerId               446.0  257.20938292890224    1      891     0\n",
      "   Survived  0.3838383838383838 0.48631931786709987    0        1     0\n",
      "     Pclass   2.308641975308642  0.8356019334795166    1        3     0\n",
      "       Name                  --                  --   --       --     0\n",
      "        Sex                  --                  --   --       --     0\n",
      "        Age   29.69911764705882  14.516321150817316 0.42     80.0   177\n",
      "      SibSp  0.5230078563411896  1.1021244350892878    0        8     0\n",
      "      Parch 0.38159371492704824  0.8056047612452208    0        6     0\n",
      "     Ticket                  --                  --   --       --     0\n",
      "       Fare  32.204207968574636    49.6655344447741  0.0 512.3292     0\n",
      "      Cabin                  --                  --   --       --   687\n",
      "   Embarked                  --                  --   --       --     2\n"
     ]
    }
   ],
   "source": [
    "tab.info('stats')"
   ]
  },
  {
   "cell_type": "markdown",
   "metadata": {},
   "source": [
    "#### Cross-tab usign Pandas"
   ]
  },
  {
   "cell_type": "code",
   "execution_count": 17,
   "metadata": {},
   "outputs": [
    {
     "data": {
      "text/html": [
       "<div>\n",
       "<style scoped>\n",
       "    .dataframe tbody tr th:only-of-type {\n",
       "        vertical-align: middle;\n",
       "    }\n",
       "\n",
       "    .dataframe tbody tr th {\n",
       "        vertical-align: top;\n",
       "    }\n",
       "\n",
       "    .dataframe thead th {\n",
       "        text-align: right;\n",
       "    }\n",
       "</style>\n",
       "<table border=\"1\" class=\"dataframe\">\n",
       "  <thead>\n",
       "    <tr style=\"text-align: right;\">\n",
       "      <th>Survived</th>\n",
       "      <th>0</th>\n",
       "      <th>1</th>\n",
       "    </tr>\n",
       "    <tr>\n",
       "      <th>Pclass</th>\n",
       "      <th></th>\n",
       "      <th></th>\n",
       "    </tr>\n",
       "  </thead>\n",
       "  <tbody>\n",
       "    <tr>\n",
       "      <th>1</th>\n",
       "      <td>80</td>\n",
       "      <td>136</td>\n",
       "    </tr>\n",
       "    <tr>\n",
       "      <th>2</th>\n",
       "      <td>97</td>\n",
       "      <td>87</td>\n",
       "    </tr>\n",
       "    <tr>\n",
       "      <th>3</th>\n",
       "      <td>372</td>\n",
       "      <td>119</td>\n",
       "    </tr>\n",
       "  </tbody>\n",
       "</table>\n",
       "</div>"
      ],
      "text/plain": [
       "Survived    0    1\n",
       "Pclass            \n",
       "1          80  136\n",
       "2          97   87\n",
       "3         372  119"
      ]
     },
     "execution_count": 17,
     "metadata": {},
     "output_type": "execute_result"
    }
   ],
   "source": [
    "pclass_xt = pd.crosstab(df['Pclass'], df['Survived'])\n",
    "pclass_xt"
   ]
  },
  {
   "cell_type": "code",
   "execution_count": 18,
   "metadata": {},
   "outputs": [
    {
     "data": {
      "text/plain": [
       "{'female': 0, 'male': 1}"
      ]
     },
     "execution_count": 18,
     "metadata": {},
     "output_type": "execute_result"
    }
   ],
   "source": [
    "# Pandas\n",
    "sexes = sorted(df['Sex'].unique())\n",
    "genders_mapping = dict(zip(sexes, range(0, len(sexes) + 1)))\n",
    "genders_mapping"
   ]
  },
  {
   "cell_type": "code",
   "execution_count": 19,
   "metadata": {},
   "outputs": [
    {
     "data": {
      "text/plain": [
       "{'female': 0, 'male': 1}"
      ]
     },
     "execution_count": 19,
     "metadata": {},
     "output_type": "execute_result"
    }
   ],
   "source": [
    "# Astropy\n",
    "sexes = unique(tab,keys='Sex')['Sex']\n",
    "genders_mapping = dict(zip(sexes, range(0, len(sexes) + 1)))\n",
    "genders_mapping"
   ]
  },
  {
   "cell_type": "code",
   "execution_count": 20,
   "metadata": {},
   "outputs": [
    {
     "name": "stdout",
     "output_type": "stream",
     "text": [
      "M:  1 122\n",
      "F:  1 94\n",
      "M:  2 108\n",
      "F:  2 76\n",
      "M:  3 347\n",
      "F:  3 144\n"
     ]
    }
   ],
   "source": [
    "# Get the unique values of Pclass using Pandas\n",
    "passenger_classes = sorted(df['Pclass'].unique())\n",
    "\n",
    "for p_class in passenger_classes:\n",
    "    print('M: ', p_class, len(df[(df['Sex'] == 'male') & (df['Pclass'] == p_class)]))\n",
    "    print('F: ', p_class, len(df[(df['Sex'] == 'female') & (df['Pclass'] == p_class)]))"
   ]
  },
  {
   "cell_type": "code",
   "execution_count": 21,
   "metadata": {},
   "outputs": [
    {
     "name": "stdout",
     "output_type": "stream",
     "text": [
      "M:  1 122\n",
      "F:  1 94\n",
      "M:  2 108\n",
      "F:  2 76\n",
      "M:  3 347\n",
      "F:  3 144\n"
     ]
    }
   ],
   "source": [
    "# Get the unique values of Pclass using astropy.table\n",
    "passenger_classes = unique(tab,keys='Pclass')['Pclass']\n",
    "for p_class in passenger_classes:\n",
    "    print('M: ', p_class, len(tab[(tab['Sex'] == 'male') & (tab['Pclass'] == p_class)]))\n",
    "    print('F: ', p_class, len(tab[(tab['Sex'] == 'female') & (tab['Pclass'] == p_class)]))\n"
   ]
  },
  {
   "cell_type": "markdown",
   "metadata": {},
   "source": [
    "### Easy conversion to a Pandas dataframe"
   ]
  },
  {
   "cell_type": "code",
   "execution_count": 22,
   "metadata": {},
   "outputs": [],
   "source": [
    "df2 = tab.to_pandas()"
   ]
  },
  {
   "cell_type": "code",
   "execution_count": 23,
   "metadata": {},
   "outputs": [
    {
     "data": {
      "text/html": [
       "<div>\n",
       "<style scoped>\n",
       "    .dataframe tbody tr th:only-of-type {\n",
       "        vertical-align: middle;\n",
       "    }\n",
       "\n",
       "    .dataframe tbody tr th {\n",
       "        vertical-align: top;\n",
       "    }\n",
       "\n",
       "    .dataframe thead th {\n",
       "        text-align: right;\n",
       "    }\n",
       "</style>\n",
       "<table border=\"1\" class=\"dataframe\">\n",
       "  <thead>\n",
       "    <tr style=\"text-align: right;\">\n",
       "      <th></th>\n",
       "      <th>PassengerId</th>\n",
       "      <th>Survived</th>\n",
       "      <th>Pclass</th>\n",
       "      <th>Name</th>\n",
       "      <th>Sex</th>\n",
       "      <th>Age</th>\n",
       "      <th>SibSp</th>\n",
       "      <th>Parch</th>\n",
       "      <th>Ticket</th>\n",
       "      <th>Fare</th>\n",
       "      <th>Cabin</th>\n",
       "      <th>Embarked</th>\n",
       "    </tr>\n",
       "  </thead>\n",
       "  <tbody>\n",
       "    <tr>\n",
       "      <th>0</th>\n",
       "      <td>1.0</td>\n",
       "      <td>0.0</td>\n",
       "      <td>3.0</td>\n",
       "      <td>Braund, Mr. Owen Harris</td>\n",
       "      <td>male</td>\n",
       "      <td>22.0</td>\n",
       "      <td>1.0</td>\n",
       "      <td>0.0</td>\n",
       "      <td>A/5 21171</td>\n",
       "      <td>7.2500</td>\n",
       "      <td>NaN</td>\n",
       "      <td>S</td>\n",
       "    </tr>\n",
       "    <tr>\n",
       "      <th>1</th>\n",
       "      <td>2.0</td>\n",
       "      <td>1.0</td>\n",
       "      <td>1.0</td>\n",
       "      <td>Cumings, Mrs. John Bradley (Florence Briggs Th...</td>\n",
       "      <td>female</td>\n",
       "      <td>38.0</td>\n",
       "      <td>1.0</td>\n",
       "      <td>0.0</td>\n",
       "      <td>PC 17599</td>\n",
       "      <td>71.2833</td>\n",
       "      <td>C85</td>\n",
       "      <td>C</td>\n",
       "    </tr>\n",
       "    <tr>\n",
       "      <th>2</th>\n",
       "      <td>3.0</td>\n",
       "      <td>1.0</td>\n",
       "      <td>3.0</td>\n",
       "      <td>Heikkinen, Miss. Laina</td>\n",
       "      <td>female</td>\n",
       "      <td>26.0</td>\n",
       "      <td>0.0</td>\n",
       "      <td>0.0</td>\n",
       "      <td>STON/O2. 3101282</td>\n",
       "      <td>7.9250</td>\n",
       "      <td>NaN</td>\n",
       "      <td>S</td>\n",
       "    </tr>\n",
       "    <tr>\n",
       "      <th>3</th>\n",
       "      <td>4.0</td>\n",
       "      <td>1.0</td>\n",
       "      <td>1.0</td>\n",
       "      <td>Futrelle, Mrs. Jacques Heath (Lily May Peel)</td>\n",
       "      <td>female</td>\n",
       "      <td>35.0</td>\n",
       "      <td>1.0</td>\n",
       "      <td>0.0</td>\n",
       "      <td>113803</td>\n",
       "      <td>53.1000</td>\n",
       "      <td>C123</td>\n",
       "      <td>S</td>\n",
       "    </tr>\n",
       "    <tr>\n",
       "      <th>4</th>\n",
       "      <td>5.0</td>\n",
       "      <td>0.0</td>\n",
       "      <td>3.0</td>\n",
       "      <td>Allen, Mr. William Henry</td>\n",
       "      <td>male</td>\n",
       "      <td>35.0</td>\n",
       "      <td>0.0</td>\n",
       "      <td>0.0</td>\n",
       "      <td>373450</td>\n",
       "      <td>8.0500</td>\n",
       "      <td>NaN</td>\n",
       "      <td>S</td>\n",
       "    </tr>\n",
       "  </tbody>\n",
       "</table>\n",
       "</div>"
      ],
      "text/plain": [
       "   PassengerId  Survived  Pclass  \\\n",
       "0          1.0       0.0     3.0   \n",
       "1          2.0       1.0     1.0   \n",
       "2          3.0       1.0     3.0   \n",
       "3          4.0       1.0     1.0   \n",
       "4          5.0       0.0     3.0   \n",
       "\n",
       "                                                Name     Sex   Age  SibSp  \\\n",
       "0                            Braund, Mr. Owen Harris    male  22.0    1.0   \n",
       "1  Cumings, Mrs. John Bradley (Florence Briggs Th...  female  38.0    1.0   \n",
       "2                             Heikkinen, Miss. Laina  female  26.0    0.0   \n",
       "3       Futrelle, Mrs. Jacques Heath (Lily May Peel)  female  35.0    1.0   \n",
       "4                           Allen, Mr. William Henry    male  35.0    0.0   \n",
       "\n",
       "   Parch            Ticket     Fare Cabin Embarked  \n",
       "0    0.0         A/5 21171   7.2500   NaN        S  \n",
       "1    0.0          PC 17599  71.2833   C85        C  \n",
       "2    0.0  STON/O2. 3101282   7.9250   NaN        S  \n",
       "3    0.0            113803  53.1000  C123        S  \n",
       "4    0.0            373450   8.0500   NaN        S  "
      ]
     },
     "execution_count": 23,
     "metadata": {},
     "output_type": "execute_result"
    }
   ],
   "source": [
    "df2.head()"
   ]
  },
  {
   "cell_type": "code",
   "execution_count": 24,
   "metadata": {},
   "outputs": [
    {
     "data": {
      "text/plain": [
       "(891, 12)"
      ]
     },
     "execution_count": 24,
     "metadata": {},
     "output_type": "execute_result"
    }
   ],
   "source": [
    "df2.shape"
   ]
  },
  {
   "cell_type": "code",
   "execution_count": 25,
   "metadata": {},
   "outputs": [
    {
     "data": {
      "text/plain": [
       "Index(['PassengerId', 'Survived', 'Pclass', 'Name', 'Sex', 'Age', 'SibSp',\n",
       "       'Parch', 'Ticket', 'Fare', 'Cabin', 'Embarked'],\n",
       "      dtype='object')"
      ]
     },
     "execution_count": 25,
     "metadata": {},
     "output_type": "execute_result"
    }
   ],
   "source": [
    "df2.columns"
   ]
  },
  {
   "cell_type": "code",
   "execution_count": 26,
   "metadata": {},
   "outputs": [
    {
     "data": {
      "text/plain": [
       "<TableColumns names=('PassengerId','Survived','Pclass','Name','Sex','Age','SibSp','Parch','Ticket','Fare','Cabin','Embarked')>"
      ]
     },
     "execution_count": 26,
     "metadata": {},
     "output_type": "execute_result"
    }
   ],
   "source": [
    "tab.columns"
   ]
  },
  {
   "cell_type": "code",
   "execution_count": 27,
   "metadata": {},
   "outputs": [],
   "source": [
    "#pd2 = pd.read_excel('Weather.xlsx ')"
   ]
  },
  {
   "cell_type": "code",
   "execution_count": 28,
   "metadata": {},
   "outputs": [],
   "source": [
    "# SQLite\n",
    "from sqlalchemy import create_engine\n",
    "import numpy as np"
   ]
  },
  {
   "cell_type": "markdown",
   "metadata": {},
   "source": [
    "### Pandas/Astropy\n",
    "\n",
    "#### Merging\n",
    "- concatenate columns/rows: pd.concat()/ hstack([t1,t2]) and vstack([t1,t2])\n",
    "- database-style join operation by\n",
    "    columns or indexes Dataframes/tables: pd.merge(df1,df2,on='key') / join(left, right[, keys, join_type, …])\n",
    "- append a row at the end: pd.append(new_rows ingore_index=True)"
   ]
  },
  {
   "cell_type": "code",
   "execution_count": 29,
   "metadata": {},
   "outputs": [
    {
     "data": {
      "text/html": [
       "<div>\n",
       "<style scoped>\n",
       "    .dataframe tbody tr th:only-of-type {\n",
       "        vertical-align: middle;\n",
       "    }\n",
       "\n",
       "    .dataframe tbody tr th {\n",
       "        vertical-align: top;\n",
       "    }\n",
       "\n",
       "    .dataframe thead th {\n",
       "        text-align: right;\n",
       "    }\n",
       "</style>\n",
       "<table border=\"1\" class=\"dataframe\">\n",
       "  <thead>\n",
       "    <tr style=\"text-align: right;\">\n",
       "      <th></th>\n",
       "      <th>A</th>\n",
       "      <th>B</th>\n",
       "      <th>C</th>\n",
       "      <th>D</th>\n",
       "    </tr>\n",
       "  </thead>\n",
       "  <tbody>\n",
       "    <tr>\n",
       "      <th>0</th>\n",
       "      <td>-0.633762</td>\n",
       "      <td>-0.623436</td>\n",
       "      <td>-1.010388</td>\n",
       "      <td>-0.090806</td>\n",
       "    </tr>\n",
       "    <tr>\n",
       "      <th>1</th>\n",
       "      <td>1.225558</td>\n",
       "      <td>-0.193113</td>\n",
       "      <td>1.887596</td>\n",
       "      <td>0.014025</td>\n",
       "    </tr>\n",
       "    <tr>\n",
       "      <th>2</th>\n",
       "      <td>0.896680</td>\n",
       "      <td>0.385825</td>\n",
       "      <td>-0.911641</td>\n",
       "      <td>-0.664368</td>\n",
       "    </tr>\n",
       "    <tr>\n",
       "      <th>3</th>\n",
       "      <td>-1.927006</td>\n",
       "      <td>-0.427448</td>\n",
       "      <td>0.470260</td>\n",
       "      <td>-1.116965</td>\n",
       "    </tr>\n",
       "    <tr>\n",
       "      <th>4</th>\n",
       "      <td>-0.729664</td>\n",
       "      <td>0.099900</td>\n",
       "      <td>0.338580</td>\n",
       "      <td>-2.023594</td>\n",
       "    </tr>\n",
       "    <tr>\n",
       "      <th>5</th>\n",
       "      <td>0.599496</td>\n",
       "      <td>-0.053077</td>\n",
       "      <td>0.839813</td>\n",
       "      <td>-1.504623</td>\n",
       "    </tr>\n",
       "    <tr>\n",
       "      <th>6</th>\n",
       "      <td>0.765692</td>\n",
       "      <td>-1.394492</td>\n",
       "      <td>0.939961</td>\n",
       "      <td>-0.908918</td>\n",
       "    </tr>\n",
       "    <tr>\n",
       "      <th>7</th>\n",
       "      <td>-0.814391</td>\n",
       "      <td>1.159087</td>\n",
       "      <td>1.214281</td>\n",
       "      <td>1.304610</td>\n",
       "    </tr>\n",
       "    <tr>\n",
       "      <th>8</th>\n",
       "      <td>-1.927006</td>\n",
       "      <td>-0.427448</td>\n",
       "      <td>0.470260</td>\n",
       "      <td>-1.116965</td>\n",
       "    </tr>\n",
       "  </tbody>\n",
       "</table>\n",
       "</div>"
      ],
      "text/plain": [
       "          A         B         C         D\n",
       "0 -0.633762 -0.623436 -1.010388 -0.090806\n",
       "1  1.225558 -0.193113  1.887596  0.014025\n",
       "2  0.896680  0.385825 -0.911641 -0.664368\n",
       "3 -1.927006 -0.427448  0.470260 -1.116965\n",
       "4 -0.729664  0.099900  0.338580 -2.023594\n",
       "5  0.599496 -0.053077  0.839813 -1.504623\n",
       "6  0.765692 -1.394492  0.939961 -0.908918\n",
       "7 -0.814391  1.159087  1.214281  1.304610\n",
       "8 -1.927006 -0.427448  0.470260 -1.116965"
      ]
     },
     "execution_count": 29,
     "metadata": {},
     "output_type": "execute_result"
    }
   ],
   "source": [
    "df2 = pd.DataFrame(np.random.randn(8, 4), columns=['A','B','C','D'])\n",
    "s = df2.iloc[3]\n",
    "df2.append(s, ignore_index=True)"
   ]
  },
  {
   "cell_type": "markdown",
   "metadata": {},
   "source": [
    "#### Now using Astropy"
   ]
  },
  {
   "cell_type": "code",
   "execution_count": 30,
   "metadata": {},
   "outputs": [
    {
     "data": {
      "text/html": [
       "<i>Table length=3</i>\n",
       "<table id=\"table4609898032\" class=\"table-striped table-bordered table-condensed\">\n",
       "<thead><tr><th>a</th><th>b</th><th>c</th></tr></thead>\n",
       "<thead><tr><th>int32</th><th>float64</th><th>bytes1</th></tr></thead>\n",
       "<tr><td>1</td><td>2.0</td><td>x</td></tr>\n",
       "<tr><td>4</td><td>5.0</td><td>y</td></tr>\n",
       "<tr><td>5</td><td>8.2</td><td>z</td></tr>\n",
       "</table>"
      ],
      "text/plain": [
       "<Table length=3>\n",
       "  a      b      c   \n",
       "int32 float64 bytes1\n",
       "----- ------- ------\n",
       "    1     2.0      x\n",
       "    4     5.0      y\n",
       "    5     8.2      z"
      ]
     },
     "execution_count": 30,
     "metadata": {},
     "output_type": "execute_result"
    }
   ],
   "source": [
    "data_rows = [(1, 2.0, 'x'),\n",
    "             (4, 5.0, 'y'),\n",
    "             (5, 8.2, 'z')]\n",
    "t = Table(rows=data_rows, names=('a', 'b', 'c'), meta={'name': 'first table'},\n",
    "          dtype=('i4', 'f8', 'S1'))\n",
    "t"
   ]
  },
  {
   "cell_type": "code",
   "execution_count": 31,
   "metadata": {},
   "outputs": [
    {
     "data": {
      "text/html": [
       "<i>Table length=2</i>\n",
       "<table id=\"table4609859312\" class=\"table-striped table-bordered table-condensed\">\n",
       "<thead><tr><th>a</th><th>b</th><th>c</th></tr></thead>\n",
       "<thead><tr><th>int64</th><th>float64</th><th>str1</th></tr></thead>\n",
       "<tr><td>8</td><td>4.0</td><td>l</td></tr>\n",
       "<tr><td>-3</td><td>9.0</td><td>m</td></tr>\n",
       "</table>"
      ],
      "text/plain": [
       "<Table length=2>\n",
       "  a      b     c  \n",
       "int64 float64 str1\n",
       "----- ------- ----\n",
       "    8     4.0    l\n",
       "   -3     9.0    m"
      ]
     },
     "execution_count": 31,
     "metadata": {},
     "output_type": "execute_result"
    }
   ],
   "source": [
    "newrows = Table(rows=[(8, 4.0, 'l'),(-3, 9.0, 'm')], names=('a', 'b', 'c'))\n",
    "newrows"
   ]
  },
  {
   "cell_type": "code",
   "execution_count": 32,
   "metadata": {},
   "outputs": [
    {
     "data": {
      "text/html": [
       "<i>Table length=5</i>\n",
       "<table id=\"table4609858024\" class=\"table-striped table-bordered table-condensed\">\n",
       "<thead><tr><th>a</th><th>b</th><th>c</th></tr></thead>\n",
       "<thead><tr><th>int64</th><th>float64</th><th>str1</th></tr></thead>\n",
       "<tr><td>1</td><td>2.0</td><td>x</td></tr>\n",
       "<tr><td>4</td><td>5.0</td><td>y</td></tr>\n",
       "<tr><td>5</td><td>8.2</td><td>z</td></tr>\n",
       "<tr><td>8</td><td>4.0</td><td>l</td></tr>\n",
       "<tr><td>-3</td><td>9.0</td><td>m</td></tr>\n",
       "</table>"
      ],
      "text/plain": [
       "<Table length=5>\n",
       "  a      b     c  \n",
       "int64 float64 str1\n",
       "----- ------- ----\n",
       "    1     2.0    x\n",
       "    4     5.0    y\n",
       "    5     8.2    z\n",
       "    8     4.0    l\n",
       "   -3     9.0    m"
      ]
     },
     "execution_count": 32,
     "metadata": {},
     "output_type": "execute_result"
    }
   ],
   "source": [
    "from astropy.table import hstack,vstack\n",
    "vstack([t,newrows]) "
   ]
  },
  {
   "cell_type": "code",
   "execution_count": 33,
   "metadata": {},
   "outputs": [
    {
     "data": {
      "text/html": [
       "<i>Table length=3</i>\n",
       "<table id=\"table4609897696\" class=\"table-striped table-bordered table-condensed\">\n",
       "<thead><tr><th>d</th><th>e</th></tr></thead>\n",
       "<thead><tr><th>str7</th><th>str6</th></tr></thead>\n",
       "<tr><td>a2</td><td>a3</td></tr>\n",
       "<tr><td>10000.0</td><td>3200.0</td></tr>\n",
       "<tr><td>-4.0</td><td>-5.0</td></tr>\n",
       "</table>"
      ],
      "text/plain": [
       "<Table length=3>\n",
       "   d      e   \n",
       "  str7   str6 \n",
       "------- ------\n",
       "     a2     a3\n",
       "10000.0 3200.0\n",
       "   -4.0   -5.0"
      ]
     },
     "execution_count": 33,
     "metadata": {},
     "output_type": "execute_result"
    }
   ],
   "source": [
    "newcols = Table(rows=[('a2','a3'),(1e4,3.2e3),(-4.,-5.)], names=('d', 'e'))\n",
    "newcols"
   ]
  },
  {
   "cell_type": "code",
   "execution_count": 34,
   "metadata": {},
   "outputs": [
    {
     "data": {
      "text/html": [
       "<i>Table length=3</i>\n",
       "<table id=\"table4606453464\" class=\"table-striped table-bordered table-condensed\">\n",
       "<thead><tr><th>a</th><th>b</th><th>c</th><th>d</th><th>e</th></tr></thead>\n",
       "<thead><tr><th>int32</th><th>float64</th><th>bytes1</th><th>str7</th><th>str6</th></tr></thead>\n",
       "<tr><td>1</td><td>2.0</td><td>x</td><td>a2</td><td>a3</td></tr>\n",
       "<tr><td>4</td><td>5.0</td><td>y</td><td>10000.0</td><td>3200.0</td></tr>\n",
       "<tr><td>5</td><td>8.2</td><td>z</td><td>-4.0</td><td>-5.0</td></tr>\n",
       "</table>"
      ],
      "text/plain": [
       "<Table length=3>\n",
       "  a      b      c       d      e   \n",
       "int32 float64 bytes1   str7   str6 \n",
       "----- ------- ------ ------- ------\n",
       "    1     2.0      x      a2     a3\n",
       "    4     5.0      y 10000.0 3200.0\n",
       "    5     8.2      z    -4.0   -5.0"
      ]
     },
     "execution_count": 34,
     "metadata": {},
     "output_type": "execute_result"
    }
   ],
   "source": [
    "hstack([t,newcols]) "
   ]
  },
  {
   "cell_type": "markdown",
   "metadata": {},
   "source": [
    "### Pivot table\n",
    "\n",
    "Data is often stored in CSV files or databases in so-called “stacked” or “record” format."
   ]
  },
  {
   "cell_type": "code",
   "execution_count": 35,
   "metadata": {},
   "outputs": [],
   "source": [
    "import pandas.util.testing as tm; tm.N = 3\n",
    "def unpivot(frame):\n",
    "    N, K = frame.shape\n",
    "    data = {'value' : frame.values.ravel('F'),\n",
    "            'variable' : np.asarray(frame.columns).repeat(N),\n",
    "            'date' : np.tile(np.asarray(frame.index), K)}\n",
    "    return pd.DataFrame(data, columns=['date', 'variable', 'value'])\n",
    "unpivotdf = unpivot(tm.makeTimeDataFrame())"
   ]
  },
  {
   "cell_type": "code",
   "execution_count": 36,
   "metadata": {},
   "outputs": [
    {
     "data": {
      "text/html": [
       "<div>\n",
       "<style scoped>\n",
       "    .dataframe tbody tr th:only-of-type {\n",
       "        vertical-align: middle;\n",
       "    }\n",
       "\n",
       "    .dataframe tbody tr th {\n",
       "        vertical-align: top;\n",
       "    }\n",
       "\n",
       "    .dataframe thead th {\n",
       "        text-align: right;\n",
       "    }\n",
       "</style>\n",
       "<table border=\"1\" class=\"dataframe\">\n",
       "  <thead>\n",
       "    <tr style=\"text-align: right;\">\n",
       "      <th></th>\n",
       "      <th>date</th>\n",
       "      <th>variable</th>\n",
       "      <th>value</th>\n",
       "    </tr>\n",
       "  </thead>\n",
       "  <tbody>\n",
       "    <tr>\n",
       "      <th>0</th>\n",
       "      <td>2000-01-03</td>\n",
       "      <td>A</td>\n",
       "      <td>-0.786930</td>\n",
       "    </tr>\n",
       "    <tr>\n",
       "      <th>1</th>\n",
       "      <td>2000-01-04</td>\n",
       "      <td>A</td>\n",
       "      <td>0.511586</td>\n",
       "    </tr>\n",
       "    <tr>\n",
       "      <th>2</th>\n",
       "      <td>2000-01-05</td>\n",
       "      <td>A</td>\n",
       "      <td>0.519832</td>\n",
       "    </tr>\n",
       "    <tr>\n",
       "      <th>3</th>\n",
       "      <td>2000-01-03</td>\n",
       "      <td>B</td>\n",
       "      <td>-0.378682</td>\n",
       "    </tr>\n",
       "    <tr>\n",
       "      <th>4</th>\n",
       "      <td>2000-01-04</td>\n",
       "      <td>B</td>\n",
       "      <td>0.210597</td>\n",
       "    </tr>\n",
       "    <tr>\n",
       "      <th>5</th>\n",
       "      <td>2000-01-05</td>\n",
       "      <td>B</td>\n",
       "      <td>-0.938252</td>\n",
       "    </tr>\n",
       "    <tr>\n",
       "      <th>6</th>\n",
       "      <td>2000-01-03</td>\n",
       "      <td>C</td>\n",
       "      <td>0.192337</td>\n",
       "    </tr>\n",
       "    <tr>\n",
       "      <th>7</th>\n",
       "      <td>2000-01-04</td>\n",
       "      <td>C</td>\n",
       "      <td>2.081758</td>\n",
       "    </tr>\n",
       "    <tr>\n",
       "      <th>8</th>\n",
       "      <td>2000-01-05</td>\n",
       "      <td>C</td>\n",
       "      <td>-0.505425</td>\n",
       "    </tr>\n",
       "    <tr>\n",
       "      <th>9</th>\n",
       "      <td>2000-01-03</td>\n",
       "      <td>D</td>\n",
       "      <td>-1.961333</td>\n",
       "    </tr>\n",
       "    <tr>\n",
       "      <th>10</th>\n",
       "      <td>2000-01-04</td>\n",
       "      <td>D</td>\n",
       "      <td>0.241400</td>\n",
       "    </tr>\n",
       "    <tr>\n",
       "      <th>11</th>\n",
       "      <td>2000-01-05</td>\n",
       "      <td>D</td>\n",
       "      <td>0.111863</td>\n",
       "    </tr>\n",
       "  </tbody>\n",
       "</table>\n",
       "</div>"
      ],
      "text/plain": [
       "         date variable     value\n",
       "0  2000-01-03        A -0.786930\n",
       "1  2000-01-04        A  0.511586\n",
       "2  2000-01-05        A  0.519832\n",
       "3  2000-01-03        B -0.378682\n",
       "4  2000-01-04        B  0.210597\n",
       "5  2000-01-05        B -0.938252\n",
       "6  2000-01-03        C  0.192337\n",
       "7  2000-01-04        C  2.081758\n",
       "8  2000-01-05        C -0.505425\n",
       "9  2000-01-03        D -1.961333\n",
       "10 2000-01-04        D  0.241400\n",
       "11 2000-01-05        D  0.111863"
      ]
     },
     "execution_count": 36,
     "metadata": {},
     "output_type": "execute_result"
    }
   ],
   "source": [
    "unpivotdf"
   ]
  },
  {
   "cell_type": "code",
   "execution_count": 37,
   "metadata": {},
   "outputs": [
    {
     "data": {
      "text/html": [
       "<div>\n",
       "<style scoped>\n",
       "    .dataframe tbody tr th:only-of-type {\n",
       "        vertical-align: middle;\n",
       "    }\n",
       "\n",
       "    .dataframe tbody tr th {\n",
       "        vertical-align: top;\n",
       "    }\n",
       "\n",
       "    .dataframe thead th {\n",
       "        text-align: right;\n",
       "    }\n",
       "</style>\n",
       "<table border=\"1\" class=\"dataframe\">\n",
       "  <thead>\n",
       "    <tr style=\"text-align: right;\">\n",
       "      <th>variable</th>\n",
       "      <th>A</th>\n",
       "      <th>B</th>\n",
       "      <th>C</th>\n",
       "      <th>D</th>\n",
       "    </tr>\n",
       "    <tr>\n",
       "      <th>date</th>\n",
       "      <th></th>\n",
       "      <th></th>\n",
       "      <th></th>\n",
       "      <th></th>\n",
       "    </tr>\n",
       "  </thead>\n",
       "  <tbody>\n",
       "    <tr>\n",
       "      <th>2000-01-03</th>\n",
       "      <td>-0.786930</td>\n",
       "      <td>-0.378682</td>\n",
       "      <td>0.192337</td>\n",
       "      <td>-1.961333</td>\n",
       "    </tr>\n",
       "    <tr>\n",
       "      <th>2000-01-04</th>\n",
       "      <td>0.511586</td>\n",
       "      <td>0.210597</td>\n",
       "      <td>2.081758</td>\n",
       "      <td>0.241400</td>\n",
       "    </tr>\n",
       "    <tr>\n",
       "      <th>2000-01-05</th>\n",
       "      <td>0.519832</td>\n",
       "      <td>-0.938252</td>\n",
       "      <td>-0.505425</td>\n",
       "      <td>0.111863</td>\n",
       "    </tr>\n",
       "  </tbody>\n",
       "</table>\n",
       "</div>"
      ],
      "text/plain": [
       "variable           A         B         C         D\n",
       "date                                              \n",
       "2000-01-03 -0.786930 -0.378682  0.192337 -1.961333\n",
       "2000-01-04  0.511586  0.210597  2.081758  0.241400\n",
       "2000-01-05  0.519832 -0.938252 -0.505425  0.111863"
      ]
     },
     "execution_count": 37,
     "metadata": {},
     "output_type": "execute_result"
    }
   ],
   "source": [
    "pivoteddf=unpivotdf.pivot(index='date', columns='variable', values='value')\n",
    "pivoteddf"
   ]
  },
  {
   "cell_type": "code",
   "execution_count": 38,
   "metadata": {},
   "outputs": [],
   "source": [
    "pivotedtab=Table.from_pandas(pivoteddf)"
   ]
  },
  {
   "cell_type": "code",
   "execution_count": 39,
   "metadata": {},
   "outputs": [
    {
     "data": {
      "text/html": [
       "<i>Table length=3</i>\n",
       "<table id=\"table4609897528\" class=\"table-striped table-bordered table-condensed\">\n",
       "<thead><tr><th>A</th><th>B</th><th>C</th><th>D</th></tr></thead>\n",
       "<thead><tr><th>float64</th><th>float64</th><th>float64</th><th>float64</th></tr></thead>\n",
       "<tr><td>-0.7869295401722648</td><td>-0.37868153556617395</td><td>0.19233656067833904</td><td>-1.961332809973836</td></tr>\n",
       "<tr><td>0.5115855817180947</td><td>0.21059713695969592</td><td>2.081758044030184</td><td>0.24139957830778125</td></tr>\n",
       "<tr><td>0.5198322824158546</td><td>-0.9382517067515813</td><td>-0.50542527021323</td><td>0.11186257441218021</td></tr>\n",
       "</table>"
      ],
      "text/plain": [
       "<Table length=3>\n",
       "         A                   B                    C                   D         \n",
       "      float64             float64              float64             float64      \n",
       "------------------- -------------------- ------------------- -------------------\n",
       "-0.7869295401722648 -0.37868153556617395 0.19233656067833904  -1.961332809973836\n",
       " 0.5115855817180947  0.21059713695969592   2.081758044030184 0.24139957830778125\n",
       " 0.5198322824158546  -0.9382517067515813   -0.50542527021323 0.11186257441218021"
      ]
     },
     "execution_count": 39,
     "metadata": {},
     "output_type": "execute_result"
    }
   ],
   "source": [
    "pivotedtab"
   ]
  },
  {
   "cell_type": "markdown",
   "metadata": {},
   "source": [
    "The index column is missing! It is not passed as column to an astropy table. One has to create add a column using the index values."
   ]
  },
  {
   "cell_type": "code",
   "execution_count": 40,
   "metadata": {},
   "outputs": [],
   "source": [
    "# create a dataframe out of the index\n",
    "df2=pd.DataFrame(pivoteddf.index,index=pivoteddf.index)"
   ]
  },
  {
   "cell_type": "code",
   "execution_count": 41,
   "metadata": {},
   "outputs": [],
   "source": [
    "# add it to the initial dataframe\n",
    "pivoteddf2=pd.concat([df2,pivoteddf],axis='columns')"
   ]
  },
  {
   "cell_type": "code",
   "execution_count": 42,
   "metadata": {},
   "outputs": [],
   "source": [
    "pivotedtab2=Table.from_pandas(pivoteddf2)"
   ]
  },
  {
   "cell_type": "code",
   "execution_count": 43,
   "metadata": {},
   "outputs": [
    {
     "data": {
      "text/html": [
       "<i>Table length=3</i>\n",
       "<table id=\"table4609993640\" class=\"table-striped table-bordered table-condensed\">\n",
       "<thead><tr><th>date</th><th>A</th><th>B</th><th>C</th><th>D</th></tr></thead>\n",
       "<thead><tr><th>datetime64[ns]</th><th>float64</th><th>float64</th><th>float64</th><th>float64</th></tr></thead>\n",
       "<tr><td>2000-01-03T00:00:00.000000000</td><td>-0.7869295401722648</td><td>-0.37868153556617395</td><td>0.19233656067833904</td><td>-1.961332809973836</td></tr>\n",
       "<tr><td>2000-01-04T00:00:00.000000000</td><td>0.5115855817180947</td><td>0.21059713695969592</td><td>2.081758044030184</td><td>0.24139957830778125</td></tr>\n",
       "<tr><td>2000-01-05T00:00:00.000000000</td><td>0.5198322824158546</td><td>-0.9382517067515813</td><td>-0.50542527021323</td><td>0.11186257441218021</td></tr>\n",
       "</table>"
      ],
      "text/plain": [
       "<Table length=3>\n",
       "             date                      A          ...          D         \n",
       "        datetime64[ns]              float64       ...       float64      \n",
       "----------------------------- ------------------- ... -------------------\n",
       "2000-01-03T00:00:00.000000000 -0.7869295401722648 ...  -1.961332809973836\n",
       "2000-01-04T00:00:00.000000000  0.5115855817180947 ... 0.24139957830778125\n",
       "2000-01-05T00:00:00.000000000  0.5198322824158546 ... 0.11186257441218021"
      ]
     },
     "execution_count": 43,
     "metadata": {},
     "output_type": "execute_result"
    }
   ],
   "source": [
    "pivotedtab2"
   ]
  },
  {
   "cell_type": "markdown",
   "metadata": {},
   "source": [
    "Another feature that is absent from Astropy table is a method to generate cross-tables. Generate a cross tab of Pclass and Survived:"
   ]
  },
  {
   "cell_type": "code",
   "execution_count": 44,
   "metadata": {},
   "outputs": [
    {
     "data": {
      "text/html": [
       "<div>\n",
       "<style scoped>\n",
       "    .dataframe tbody tr th:only-of-type {\n",
       "        vertical-align: middle;\n",
       "    }\n",
       "\n",
       "    .dataframe tbody tr th {\n",
       "        vertical-align: top;\n",
       "    }\n",
       "\n",
       "    .dataframe thead th {\n",
       "        text-align: right;\n",
       "    }\n",
       "</style>\n",
       "<table border=\"1\" class=\"dataframe\">\n",
       "  <thead>\n",
       "    <tr style=\"text-align: right;\">\n",
       "      <th>Survived</th>\n",
       "      <th>0</th>\n",
       "      <th>1</th>\n",
       "    </tr>\n",
       "    <tr>\n",
       "      <th>Pclass</th>\n",
       "      <th></th>\n",
       "      <th></th>\n",
       "    </tr>\n",
       "  </thead>\n",
       "  <tbody>\n",
       "    <tr>\n",
       "      <th>1</th>\n",
       "      <td>80</td>\n",
       "      <td>136</td>\n",
       "    </tr>\n",
       "    <tr>\n",
       "      <th>2</th>\n",
       "      <td>97</td>\n",
       "      <td>87</td>\n",
       "    </tr>\n",
       "    <tr>\n",
       "      <th>3</th>\n",
       "      <td>372</td>\n",
       "      <td>119</td>\n",
       "    </tr>\n",
       "  </tbody>\n",
       "</table>\n",
       "</div>"
      ],
      "text/plain": [
       "Survived    0    1\n",
       "Pclass            \n",
       "1          80  136\n",
       "2          97   87\n",
       "3         372  119"
      ]
     },
     "execution_count": 44,
     "metadata": {},
     "output_type": "execute_result"
    }
   ],
   "source": [
    "pclass_xt = pd.crosstab(df['Pclass'], df['Survived'])\n",
    "pclass_xt"
   ]
  },
  {
   "cell_type": "markdown",
   "metadata": {},
   "source": [
    "The cross-table is a contingency/frequency table. Subsequent analysis via the Fisher or chi2 tests can be performed on a contingency/frequency table."
   ]
  },
  {
   "cell_type": "code",
   "execution_count": 45,
   "metadata": {},
   "outputs": [],
   "source": [
    "from scipy.stats.contingency import margins,chi2_contingency\n",
    "m0, m1 = margins(pclass_xt)"
   ]
  },
  {
   "cell_type": "code",
   "execution_count": 46,
   "metadata": {},
   "outputs": [],
   "source": [
    "chi2,p_chi2,dof,expected = chi2_contingency(pclass_xt)"
   ]
  },
  {
   "cell_type": "code",
   "execution_count": 47,
   "metadata": {},
   "outputs": [
    {
     "data": {
      "text/html": [
       "<div>\n",
       "<style scoped>\n",
       "    .dataframe tbody tr th:only-of-type {\n",
       "        vertical-align: middle;\n",
       "    }\n",
       "\n",
       "    .dataframe tbody tr th {\n",
       "        vertical-align: top;\n",
       "    }\n",
       "\n",
       "    .dataframe thead th {\n",
       "        text-align: right;\n",
       "    }\n",
       "</style>\n",
       "<table border=\"1\" class=\"dataframe\">\n",
       "  <thead>\n",
       "    <tr style=\"text-align: right;\">\n",
       "      <th></th>\n",
       "      <th>0</th>\n",
       "      <th>1</th>\n",
       "    </tr>\n",
       "    <tr>\n",
       "      <th>Pclass</th>\n",
       "      <th></th>\n",
       "      <th></th>\n",
       "    </tr>\n",
       "  </thead>\n",
       "  <tbody>\n",
       "    <tr>\n",
       "      <th>1</th>\n",
       "      <td>133.0</td>\n",
       "      <td>83.0</td>\n",
       "    </tr>\n",
       "    <tr>\n",
       "      <th>2</th>\n",
       "      <td>113.0</td>\n",
       "      <td>71.0</td>\n",
       "    </tr>\n",
       "    <tr>\n",
       "      <th>3</th>\n",
       "      <td>303.0</td>\n",
       "      <td>188.0</td>\n",
       "    </tr>\n",
       "  </tbody>\n",
       "</table>\n",
       "</div>"
      ],
      "text/plain": [
       "            0      1\n",
       "Pclass              \n",
       "1       133.0   83.0\n",
       "2       113.0   71.0\n",
       "3       303.0  188.0"
      ]
     },
     "execution_count": 47,
     "metadata": {},
     "output_type": "execute_result"
    }
   ],
   "source": [
    "# expected number\n",
    "dfexp=pd.DataFrame(np.round(expected),index=[pclass_xt.index])\n",
    "dfexp"
   ]
  },
  {
   "cell_type": "code",
   "execution_count": 48,
   "metadata": {},
   "outputs": [
    {
     "data": {
      "text/html": [
       "<div>\n",
       "<style scoped>\n",
       "    .dataframe tbody tr th:only-of-type {\n",
       "        vertical-align: middle;\n",
       "    }\n",
       "\n",
       "    .dataframe tbody tr th {\n",
       "        vertical-align: top;\n",
       "    }\n",
       "\n",
       "    .dataframe thead th {\n",
       "        text-align: right;\n",
       "    }\n",
       "</style>\n",
       "<table border=\"1\" class=\"dataframe\">\n",
       "  <thead>\n",
       "    <tr style=\"text-align: right;\">\n",
       "      <th></th>\n",
       "      <th>0</th>\n",
       "      <th>1</th>\n",
       "    </tr>\n",
       "    <tr>\n",
       "      <th>Pclass</th>\n",
       "      <th></th>\n",
       "      <th></th>\n",
       "    </tr>\n",
       "  </thead>\n",
       "  <tbody>\n",
       "    <tr>\n",
       "      <th>1</th>\n",
       "      <td>0.601504</td>\n",
       "      <td>1.638554</td>\n",
       "    </tr>\n",
       "    <tr>\n",
       "      <th>2</th>\n",
       "      <td>0.858407</td>\n",
       "      <td>1.225352</td>\n",
       "    </tr>\n",
       "    <tr>\n",
       "      <th>3</th>\n",
       "      <td>1.227723</td>\n",
       "      <td>0.632979</td>\n",
       "    </tr>\n",
       "  </tbody>\n",
       "</table>\n",
       "</div>"
      ],
      "text/plain": [
       "               0         1\n",
       "Pclass                    \n",
       "1       0.601504  1.638554\n",
       "2       0.858407  1.225352\n",
       "3       1.227723  0.632979"
      ]
     },
     "execution_count": 48,
     "metadata": {},
     "output_type": "execute_result"
    }
   ],
   "source": [
    "deviation=pd.DataFrame(np.array(pclass_xt)/np.array(dfexp),index=[pclass_xt.index])\n",
    "deviation"
   ]
  },
  {
   "cell_type": "code",
   "execution_count": 49,
   "metadata": {},
   "outputs": [
    {
     "name": "stderr",
     "output_type": "stream",
     "text": [
      "/Users/Wing-Fai/Projects/python3/env/lib/python3.6/site-packages/pandas/core/generic.py:1471: PerformanceWarning: \n",
      "your performance may suffer as PyTables will pickle object types that it cannot\n",
      "map directly to c-types [inferred_type->mixed,key->block2_values] [items->['Name', 'Sex', 'Ticket', 'Cabin', 'Embarked']]\n",
      "\n",
      "  return pytables.to_hdf(path_or_buf, key, self, **kwargs)\n"
     ]
    }
   ],
   "source": [
    "# Testing HDF5 versus fits\n",
    "df.to_hdf('titanic_train.hdf5','table')"
   ]
  },
  {
   "cell_type": "code",
   "execution_count": 50,
   "metadata": {},
   "outputs": [
    {
     "data": {
      "text/html": [
       "<div>\n",
       "<style scoped>\n",
       "    .dataframe tbody tr th:only-of-type {\n",
       "        vertical-align: middle;\n",
       "    }\n",
       "\n",
       "    .dataframe tbody tr th {\n",
       "        vertical-align: top;\n",
       "    }\n",
       "\n",
       "    .dataframe thead th {\n",
       "        text-align: right;\n",
       "    }\n",
       "</style>\n",
       "<table border=\"1\" class=\"dataframe\">\n",
       "  <thead>\n",
       "    <tr style=\"text-align: right;\">\n",
       "      <th></th>\n",
       "      <th>PassengerId</th>\n",
       "      <th>Survived</th>\n",
       "      <th>Pclass</th>\n",
       "      <th>Name</th>\n",
       "      <th>Sex</th>\n",
       "      <th>Age</th>\n",
       "      <th>SibSp</th>\n",
       "      <th>Parch</th>\n",
       "      <th>Ticket</th>\n",
       "      <th>Fare</th>\n",
       "      <th>Cabin</th>\n",
       "      <th>Embarked</th>\n",
       "    </tr>\n",
       "  </thead>\n",
       "  <tbody>\n",
       "    <tr>\n",
       "      <th>0</th>\n",
       "      <td>1</td>\n",
       "      <td>0</td>\n",
       "      <td>3</td>\n",
       "      <td>Braund, Mr. Owen Harris</td>\n",
       "      <td>male</td>\n",
       "      <td>22.0</td>\n",
       "      <td>1</td>\n",
       "      <td>0</td>\n",
       "      <td>A/5 21171</td>\n",
       "      <td>7.2500</td>\n",
       "      <td>NaN</td>\n",
       "      <td>S</td>\n",
       "    </tr>\n",
       "    <tr>\n",
       "      <th>1</th>\n",
       "      <td>2</td>\n",
       "      <td>1</td>\n",
       "      <td>1</td>\n",
       "      <td>Cumings, Mrs. John Bradley (Florence Briggs Th...</td>\n",
       "      <td>female</td>\n",
       "      <td>38.0</td>\n",
       "      <td>1</td>\n",
       "      <td>0</td>\n",
       "      <td>PC 17599</td>\n",
       "      <td>71.2833</td>\n",
       "      <td>C85</td>\n",
       "      <td>C</td>\n",
       "    </tr>\n",
       "  </tbody>\n",
       "</table>\n",
       "</div>"
      ],
      "text/plain": [
       "   PassengerId  Survived  Pclass  \\\n",
       "0            1         0       3   \n",
       "1            2         1       1   \n",
       "\n",
       "                                                Name     Sex   Age  SibSp  \\\n",
       "0                            Braund, Mr. Owen Harris    male  22.0      1   \n",
       "1  Cumings, Mrs. John Bradley (Florence Briggs Th...  female  38.0      1   \n",
       "\n",
       "   Parch     Ticket     Fare Cabin Embarked  \n",
       "0      0  A/5 21171   7.2500   NaN        S  \n",
       "1      0   PC 17599  71.2833   C85        C  "
      ]
     },
     "execution_count": 50,
     "metadata": {},
     "output_type": "execute_result"
    }
   ],
   "source": [
    "df3 = pd.read_hdf('titanic_train.hdf5','table')\n",
    "df3.head(2)"
   ]
  },
  {
   "cell_type": "code",
   "execution_count": 51,
   "metadata": {},
   "outputs": [
    {
     "name": "stdout",
     "output_type": "stream",
     "text": [
      "['table']\n"
     ]
    },
    {
     "name": "stderr",
     "output_type": "stream",
     "text": [
      "/Users/Wing-Fai/Projects/python3/env/lib/python3.6/site-packages/h5py/__init__.py:36: FutureWarning: Conversion of the second argument of issubdtype from `float` to `np.floating` is deprecated. In future, it will be treated as `np.float64 == np.dtype(float).type`.\n",
      "  from ._conv import register_converters as _register_converters\n"
     ]
    }
   ],
   "source": [
    "import h5py\n",
    "x = h5py.File('titanic_train.hdf5','r')\n",
    "keys = [t for t in x.keys()]\n",
    "print(keys)"
   ]
  },
  {
   "cell_type": "code",
   "execution_count": 52,
   "metadata": {},
   "outputs": [
    {
     "data": {
      "text/plain": [
       "['table',\n",
       " 'table/axis0',\n",
       " 'table/axis1',\n",
       " 'table/block0_items',\n",
       " 'table/block0_values',\n",
       " 'table/block1_items',\n",
       " 'table/block1_values',\n",
       " 'table/block2_items',\n",
       " 'table/block2_values']"
      ]
     },
     "execution_count": 52,
     "metadata": {},
     "output_type": "execute_result"
    }
   ],
   "source": [
    "list_of_names = []\n",
    "x.visit(list_of_names.append)\n",
    "list_of_names"
   ]
  },
  {
   "cell_type": "code",
   "execution_count": 53,
   "metadata": {},
   "outputs": [
    {
     "name": "stdout",
     "output_type": "stream",
     "text": [
      "['README', 'photoabsorption', 'photodissociation', 'photoionisation', 'wavelength']\n"
     ]
    }
   ],
   "source": [
    "x = h5py.File('H2.hdf5','r')\n",
    "keys = [t for t in x.keys()]\n",
    "print(keys)"
   ]
  },
  {
   "cell_type": "code",
   "execution_count": 54,
   "metadata": {},
   "outputs": [
    {
     "name": "stdout",
     "output_type": "stream",
     "text": [
      "H2 cross sections\n",
      "From the Leiden database for photodissociation and photoionization of astrophysically relevant molecules, http://home.strw.leidenuniv.nl/~ewine/photo/\n",
      "File last modified by Alan Heays 2017-03-01\n",
      "references: abgrall_etal2000, chan1992 10.1016/0301-0104(92)87171-5, backx1976 http://stacks.iop.org/0022-3700/9/i=2/a=018,\n"
     ]
    }
   ],
   "source": [
    "## load the README text\n",
    "README = x['README'].value\n",
    "print( README)\n",
    "## load data as a numpy array\n",
    "wavelength = x['wavelength'].value\n",
    "photodissociation = x['photodissociation'].value"
   ]
  },
  {
   "cell_type": "code",
   "execution_count": 55,
   "metadata": {},
   "outputs": [],
   "source": [
    "#help(\"h5py.File\")"
   ]
  },
  {
   "cell_type": "markdown",
   "metadata": {},
   "source": [
    "#### Write/Read HDF5 into astropy table\n",
    "\n",
    "I have failed so far to write the Astropy table into a HDF5 file."
   ]
  },
  {
   "cell_type": "code",
   "execution_count": 56,
   "metadata": {},
   "outputs": [],
   "source": [
    "#tab.write('titanic_train_astropy.hdf5',format='hdf5',path='table')"
   ]
  },
  {
   "cell_type": "markdown",
   "metadata": {},
   "source": [
    "#### Saving a table in excel format using Pandas"
   ]
  },
  {
   "cell_type": "code",
   "execution_count": 57,
   "metadata": {},
   "outputs": [],
   "source": [
    "df.to_excel('titanic_train.xls')"
   ]
  },
  {
   "cell_type": "markdown",
   "metadata": {},
   "source": [
    "#### Write fits with astropy table"
   ]
  },
  {
   "cell_type": "code",
   "execution_count": 58,
   "metadata": {},
   "outputs": [],
   "source": [
    "tab.write('titanic_train.fits', format='fits',overwrite=True)"
   ]
  },
  {
   "cell_type": "code",
   "execution_count": 59,
   "metadata": {},
   "outputs": [],
   "source": [
    "tab2=Table.read('titanic_train.fits', format='fits')"
   ]
  },
  {
   "cell_type": "code",
   "execution_count": 60,
   "metadata": {},
   "outputs": [
    {
     "data": {
      "text/html": [
       "<i>Table masked=True length=2</i>\n",
       "<table id=\"table4663716776\" class=\"table-striped table-bordered table-condensed\">\n",
       "<thead><tr><th>PassengerId</th><th>Survived</th><th>Pclass</th><th>Name</th><th>Sex</th><th>Age</th><th>SibSp</th><th>Parch</th><th>Ticket</th><th>Fare</th><th>Cabin</th><th>Embarked</th></tr></thead>\n",
       "<thead><tr><th></th><th></th><th></th><th></th><th></th><th>yr</th><th></th><th></th><th></th><th></th><th></th><th></th></tr></thead>\n",
       "<thead><tr><th>int64</th><th>int64</th><th>int64</th><th>bytes82</th><th>bytes6</th><th>float64</th><th>int64</th><th>int64</th><th>bytes18</th><th>float64</th><th>bytes15</th><th>bytes1</th></tr></thead>\n",
       "<tr><td>1</td><td>0</td><td>3</td><td>Braund, Mr. Owen Harris</td><td>male</td><td>22.0</td><td>1</td><td>0</td><td>A/5 21171</td><td>7.25</td><td>N/A</td><td>S</td></tr>\n",
       "<tr><td>2</td><td>1</td><td>1</td><td>Cumings, Mrs. John Bradley (Florence Briggs Thayer)</td><td>female</td><td>38.0</td><td>1</td><td>0</td><td>PC 17599</td><td>71.2833</td><td>C85</td><td>C</td></tr>\n",
       "</table>"
      ],
      "text/plain": [
       "<Table masked=True length=2>\n",
       "PassengerId Survived Pclass ...   Fare   Cabin  Embarked\n",
       "                            ...                         \n",
       "   int64     int64   int64  ... float64 bytes15  bytes1 \n",
       "----------- -------- ------ ... ------- ------- --------\n",
       "          1        0      3 ...    7.25     N/A        S\n",
       "          2        1      1 ... 71.2833     C85        C"
      ]
     },
     "execution_count": 60,
     "metadata": {},
     "output_type": "execute_result"
    }
   ],
   "source": [
    "tab2[0:2]"
   ]
  },
  {
   "cell_type": "markdown",
   "metadata": {},
   "source": [
    "### Comparison hdf5/fits/csv\n",
    "\n",
    "- the hdf5 file written by Pandas has a size of 1.1M\n",
    "- the fits file written by Astropy is 166K\n",
    "- the original csv files is 59K"
   ]
  },
  {
   "cell_type": "markdown",
   "metadata": {},
   "source": [
    "### Summary\n",
    "- Astropy handles fits input/output of tables but may lack data manipulation methods present in Pandas\n",
    "- Astropy does not deal with HDF5 file format well.\n",
    "- CSV files are read and write without issues by both packages\n",
    "- My recommendation would be to use fits format as it is de facto the standard format in astronomy and for non-astronomers to try this well maintained robust format for binary images and tables. The transformation between Astropy table and pandas Dataframes is easy and one should take adavantage of the strength of each package, which complement each other pretty well."
   ]
  },
  {
   "cell_type": "code",
   "execution_count": null,
   "metadata": {},
   "outputs": [],
   "source": []
  }
 ],
 "metadata": {
  "kernelspec": {
   "display_name": "Python 3",
   "language": "python",
   "name": "python3"
  },
  "language_info": {
   "codemirror_mode": {
    "name": "ipython",
    "version": 3
   },
   "file_extension": ".py",
   "mimetype": "text/x-python",
   "name": "python",
   "nbconvert_exporter": "python",
   "pygments_lexer": "ipython3",
   "version": "3.6.5"
  }
 },
 "nbformat": 4,
 "nbformat_minor": 2
}
