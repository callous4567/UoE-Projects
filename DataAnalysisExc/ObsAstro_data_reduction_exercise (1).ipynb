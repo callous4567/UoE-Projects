{
 "cells": [
  {
   "cell_type": "markdown",
   "metadata": {},
   "source": [
    "# Obs Astro Data Reduction Exercise - Spectral Differential Imaging\n",
    "\n",
    "*jupyter notebook courtesy of Matthew Kenworthy // Leiden Observatory*"
   ]
  },
  {
   "cell_type": "markdown",
   "metadata": {},
   "source": [
    "Today you will determine the spectral type of a faint companion by comparing the flux of the primary star to the secondary companion and then deriving the Methane Spectral Index (MSI), which is a measure of the amount of methane detected in the companion.  This data was taken at the Very Large Telescope using the NaCo SDI camera to image a binary that consists of a very low mass star with a brown dwarf companion.  This particular brown dwarf is very cool and has a \"T\" spectral type -- characterised by deep methane absorption features.  We can use the depth of these methane absorption features to estimate a rough spectral type for this brown dwarf.  We will use the jupyter notebook, which allows us to run interactive data analysis in python from within a browser window to do so.  To run each code box, press the play button in the toolbox. "
   ]
  },
  {
   "cell_type": "code",
   "execution_count": 3,
   "metadata": {
    "collapsed": false
   },
   "outputs": [],
   "source": [
    "# import a number of useful python packages\n",
    "import numpy as np\n",
    "import matplotlib.pyplot as plt\n",
    "from astropy.io import fits\n",
    "%matplotlib inline\n",
    "\n",
    "\n",
    "# define a number of useful functions to use later on\n",
    "def box(c,x,y,trim=0):\n",
    "    # chop out a square box from an array\n",
    "    c2 = np.copy(c)\n",
    "    (nx,ny) = c.shape\n",
    "    dx = x - trim\n",
    "    dy = y - trim\n",
    "    c2 = c[dy:dy+2*trim,dx:dx+2*trim]\n",
    "    \n",
    "    return(c2)\n",
    "\n",
    "def circle_mask(im, xc, yc, rcirc):\n",
    "        # returns a circular region from a 2-d array\n",
    "        ny, nx = im.shape\n",
    "        y,x = np.mgrid[0:nx,0:ny]\n",
    "        r = np.sqrt((x-xc)*(x-xc) + (y-yc)*(y-yc))\n",
    "        return ( (r < rcirc))\n",
    "\n",
    "def r_theta(im, xc, yc):\n",
    "    # returns the radius rr and the angle phi for point (xc,yc)\n",
    "    ny, nx = im.shape\n",
    "    yp, xp = np.mgrid[0:ny,0:nx]\n",
    "    yp = yp - yc\n",
    "    xp = xp - xc\n",
    "    rr = np.sqrt(np.power(yp,2.) + np.power(xp,2.))\n",
    "    phi = np.arctan2(yp, xp)\n",
    "    return(rr, phi)\n",
    "\n",
    "def read_txtfile(filename):\n",
    "    # read in a space-delimited text file, skipping header comments\n",
    "    f = open(filename, 'r')\n",
    "    data = np.genfromtxt(f, comments='#')\n",
    "    f.close()\n",
    "    return(data)\n",
    "\n",
    "# read in the two data cubes\n",
    "f1, head = fits.getdata('cube_f1.fits', header=True)\n",
    "f3a, head = fits.getdata('cube_f3a.fits', header=True)"
   ]
  },
  {
   "cell_type": "markdown",
   "metadata": {},
   "source": [
    "## Details of the observations\n",
    "The SDI camera uses two narrowband filters, called F1 and F3a, that measure flux in and out of the methane absorption feature in the H band (1.6 microns).\n",
    "\n",
    "There are two image cubes, one in the F1 band and the other in the F3a band, each containing four separate images.\n",
    "\n",
    "F1 is at 1.575 microns, and F3a is at 1.625 microns, with a full width of 0.025 microns. Both  filters can be assumed to be 100% transmission inside the filter bandpass and 0% transmission outside the bandpass.\n",
    "\n",
    "The **Methane Spectral Index (MSI)** is defined as:\n",
    "\n",
    "MSI = Mean flux in band F1/mean flux in band F3a\n",
    "\n",
    "The primary star is called SCR 1845-6357 has a spectral type M8.5, and the secondary companion appears at a separation of 1.170 arcsec from the primary and at a position angle of 170.20 degrees.\n",
    "\n",
    "The plate scale of the SDI camera is $0.01725\\pm0.00025$ arcsec/pixel.\n"
   ]
  },
  {
   "cell_type": "markdown",
   "metadata": {},
   "source": [
    "## Measuring MSI from a Spectral Library\n",
    "Spectra of M, L and T stars have been collected at the SpeX Prism Spectral Libraries:\n",
    "\n",
    "http://pono.ucsd.edu/~adam/browndwarfs/spexprism/library.html\n",
    "\n",
    "Given the spectral type of the primary star, find a spectrum with the same spectral type, download it in ascii format, and plot it using `plt.errorbar()`. Make the wavelength go from 1.0 to 2.0 microns, and the normalised flux from 0.0 to 1.0. \n",
    "\n",
    "Add a red rectangle for the F1 filter and a green rectangle for the F3a filter. Make sure they have the correct bandwidth, and have an `alpha=0.5`. Go read up `matplotlib.patches` and `patches.Rectangle()`. Google is your helpful friend...."
   ]
  },
  {
   "cell_type": "code",
   "execution_count": null,
   "metadata": {
    "collapsed": false
   },
   "outputs": [],
   "source": [
    "#from astropy.io import ascii\n",
    "#spec_star = ascii.read('.txt')\n",
    "\n",
    "spec_star = read_txtfile('.txt')\n",
    "\n",
    "##### answer below here\n",
    "ax1 = plt.errorbar(spec_star[:,0], spec_star[:,1], spec_star[:,2])"
   ]
  },
  {
   "cell_type": "markdown",
   "metadata": {},
   "source": [
    "\n",
    "Write a function `flux_filter(wlen, flux, wlen0, dwlen)` that calculates the mean flux transmitted through a boxcar filter with central wavelength wlen0 and filter width dwlen and flux input is (wlen, flux):"
   ]
  },
  {
   "cell_type": "code",
   "execution_count": null,
   "metadata": {
    "collapsed": true
   },
   "outputs": [],
   "source": [
    "def flux_filter(wlen, flux, wlen0, dwlen):\n",
    "    "
   ]
  },
  {
   "cell_type": "markdown",
   "metadata": {},
   "source": [
    "Calculate the MSI for this M8.5 star, and display it to 2 decimal places."
   ]
  },
  {
   "cell_type": "code",
   "execution_count": null,
   "metadata": {
    "collapsed": false
   },
   "outputs": [],
   "source": [
    "# answer here\n"
   ]
  },
  {
   "cell_type": "markdown",
   "metadata": {},
   "source": [
    "## Determining the MSI of the secondary companion\n",
    "Measure the flux of the primary star and secondary companion using apertures with a diameter of 0.5 arcseconds.\n",
    "\n",
    "HINT: calculate the diameter of the aperture in pixels and examine the image cubes in ds9. How precise do you think you need to be with your measured position of the primary star? Make two arrays holding the measured x and y positions of the primary star, and use an offset to determine the position of the secondary companion. Make a loop to go over each of the 4 images, and write out the flux ratio between the primary star and the secondary companion."
   ]
  },
  {
   "cell_type": "code",
   "execution_count": null,
   "metadata": {
    "collapsed": false
   },
   "outputs": [],
   "source": [
    "# your answer here\n",
    "\n",
    "# step 1: calculate median of images and subtract off to remove the background\n",
    "\n",
    "# step 2: estimate primary star location in F1 and F3a datacubes by eye with ds9\n",
    "\n",
    "# best guess from ds9 examination\n",
    "f1_x = np.array([])\n",
    "f1_y = np.array([])\n",
    "\n",
    "# step 3: calculate ratio of primary vs. secondary in filter F1\n",
    "\n",
    "# set aperture size\n",
    "ap = \n",
    "\n",
    "# make an output array for the ratio of pri/sec in filter F1\n",
    "ratio_f1 = np.zeros(4)\n",
    "\n",
    "f, axarr = plt.subplots(2,2)\n",
    "for x,y,axx,i in zip(f1_x,f1_y,axarr.flat,np.arange(4)): \n",
    "\n",
    "    # star flux\n",
    "    \n",
    "    # companion flux\n",
    "    \n",
    "    \n",
    "# step 4: calculate ratio of primary vs. secondary in filter F3a    \n",
    "    \n"
   ]
  },
  {
   "cell_type": "markdown",
   "metadata": {},
   "source": [
    "**SANITY CHECK** make sure you've got your coordinates right by cutting out a `box(x,y,20)` of the image and displaying it. The star/companion should be in the middle of the box. Have a look at the code below to make a 2x2 array of images, or simply make 4 images from the F1 cube showing that you have the primary star location correct:"
   ]
  },
  {
   "cell_type": "code",
   "execution_count": null,
   "metadata": {
    "collapsed": false
   },
   "outputs": [],
   "source": [
    "# sanity check - do we have the stars there?\n",
    "\n",
    "f, axarr = plt.subplots(2, 2)\n",
    "for x,y,axx,i in zip(f1_x, f1_y, axarr.flat, np.arange(4)):\n",
    "    axx.imshow(box(f1[i,:,:], x, y, 20), vmin=0., vmax=1000.)\n",
    "    "
   ]
  },
  {
   "cell_type": "markdown",
   "metadata": {},
   "source": [
    "Now you have 4 measurements of flux ratio at F1 and at F3a for the primary star compared to the secondary companion, calculate the MSI for the secondary companion and estimate an error using `np.mean()` and `np.std()`"
   ]
  },
  {
   "cell_type": "code",
   "execution_count": null,
   "metadata": {
    "collapsed": false
   },
   "outputs": [],
   "source": [
    "# write answer here\n"
   ]
  },
  {
   "cell_type": "markdown",
   "metadata": {},
   "source": [
    "## Comparing your result to Biller et al. (2006)\n",
    "The measured methane spectral index in Biller et al. (2006) is $2.7 \\pm 0.1$\n",
    "\n",
    "Is there a significant difference between your MSI and that in the paper? If YES, why? Are your propagated errors larger than Biller's measurements? If YES, why?"
   ]
  },
  {
   "cell_type": "code",
   "execution_count": null,
   "metadata": {
    "collapsed": true
   },
   "outputs": [],
   "source": [
    "# your answer here\n"
   ]
  },
  {
   "cell_type": "markdown",
   "metadata": {},
   "source": [
    "## Determining the spectral type of the secondary companion\n",
    "Construct a plot showing spectral type along the x-axis with methane spectral index on the y-axis. Go to the SPeX webpage, and download the L dwarf and T dwarf spectral libraries.\n",
    "\n",
    "Pick a star from every subtype from L6 to T9 (i.e. L6, L7, L8, L9, T0, T1...), calculate the Methane Spectral Index, and plot it below. (HINT: it is easier to have a number represent the spectra type, i.e. 6 = L6, 8 = L8, 10 = T0....)\n",
    "\n",
    "Overplot your measured Methane Spectral Index for the secondary companion and determine what spectral type the companion is. Propagate the errors from your 4 measurements of MSI to an error in spectral type."
   ]
  },
  {
   "cell_type": "code",
   "execution_count": null,
   "metadata": {
    "collapsed": true
   },
   "outputs": [],
   "source": [
    "# your answer here\n",
    "\n"
   ]
  },
  {
   "cell_type": "code",
   "execution_count": null,
   "metadata": {
    "collapsed": true
   },
   "outputs": [],
   "source": []
  }
 ],
 "metadata": {
  "kernelspec": {
   "display_name": "Python 2",
   "language": "python",
   "name": "python2"
  },
  "language_info": {
   "codemirror_mode": {
    "name": "ipython",
    "version": 2
   },
   "file_extension": ".py",
   "mimetype": "text/x-python",
   "name": "python",
   "nbconvert_exporter": "python",
   "pygments_lexer": "ipython2",
   "version": "2.7.5"
  }
 },
 "nbformat": 4,
 "nbformat_minor": 0
}
